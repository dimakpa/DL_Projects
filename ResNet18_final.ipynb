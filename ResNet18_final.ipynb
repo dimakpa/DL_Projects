{
  "nbformat": 4,
  "nbformat_minor": 0,
  "metadata": {
    "colab": {
      "provenance": [],
      "authorship_tag": "ABX9TyOYPGUSordWSUQm/oCyDhGW",
      "include_colab_link": true
    },
    "kernelspec": {
      "name": "python3",
      "display_name": "Python 3"
    },
    "language_info": {
      "name": "python"
    }
  },
  "cells": [
    {
      "cell_type": "markdown",
      "metadata": {
        "id": "view-in-github",
        "colab_type": "text"
      },
      "source": [
        "<a href=\"https://colab.research.google.com/github/dimakpa/DL_Projects/blob/main/ResNet18_final.ipynb\" target=\"_parent\"><img src=\"https://colab.research.google.com/assets/colab-badge.svg\" alt=\"Open In Colab\"/></a>"
      ]
    },
    {
      "cell_type": "markdown",
      "source": [
        "#Подготовка датасета"
      ],
      "metadata": {
        "id": "uiOzfHw8tXCG"
      }
    },
    {
      "cell_type": "markdown",
      "source": [
        "Первым делом создадим датасет из кинопетель, взяв каждую 5 картинку\n"
      ],
      "metadata": {
        "id": "Cr4P6WP7Jd7g"
      }
    },
    {
      "cell_type": "code",
      "execution_count": 68,
      "metadata": {
        "id": "CM_8AdcNJaZT"
      },
      "outputs": [],
      "source": [
        "import numpy as np\n",
        "import pandas as pd\n",
        "import torch\n",
        "import torch.nn as nn\n",
        "from sklearn.model_selection import train_test_split\n",
        "from sklearn.metrics import classification_report\n",
        "from pathlib import Path\n",
        "\n",
        "# specify GPU\n",
        "device = torch.device(\"cuda\")"
      ]
    },
    {
      "cell_type": "code",
      "source": [
        "from google.colab import drive\n",
        "drive.mount('/content/drive')"
      ],
      "metadata": {
        "colab": {
          "base_uri": "https://localhost:8080/"
        },
        "id": "BHG8W1ZxJwWK",
        "outputId": "74ec6f3a-8b7e-4282-a4d4-56798a504c7a"
      },
      "execution_count": 69,
      "outputs": [
        {
          "output_type": "stream",
          "name": "stdout",
          "text": [
            "Drive already mounted at /content/drive; to attempt to forcibly remount, call drive.mount(\"/content/drive\", force_remount=True).\n"
          ]
        }
      ]
    },
    {
      "cell_type": "code",
      "source": [
        "df = pd.DataFrame(pd.read_excel(\"/content/drive/MyDrive/Colab Notebooks/MEPHI/ResNet/data/classes.xlsx\"))\n",
        "\n",
        "df.head()"
      ],
      "metadata": {
        "colab": {
          "base_uri": "https://localhost:8080/",
          "height": 206
        },
        "id": "prWRnKgLJyLq",
        "outputId": "93982711-a435-465b-eab5-8d2c85b302c0"
      },
      "execution_count": 70,
      "outputs": [
        {
          "output_type": "execute_result",
          "data": {
            "text/plain": [
              "     №  Узел ЩЖ, TIRADS\n",
              "0  178                4\n",
              "1  179                5\n",
              "2  180                3\n",
              "3  181                5\n",
              "4  182                3"
            ],
            "text/html": [
              "\n",
              "  <div id=\"df-501e9e35-e391-404f-8c32-537dd448dce7\" class=\"colab-df-container\">\n",
              "    <div>\n",
              "<style scoped>\n",
              "    .dataframe tbody tr th:only-of-type {\n",
              "        vertical-align: middle;\n",
              "    }\n",
              "\n",
              "    .dataframe tbody tr th {\n",
              "        vertical-align: top;\n",
              "    }\n",
              "\n",
              "    .dataframe thead th {\n",
              "        text-align: right;\n",
              "    }\n",
              "</style>\n",
              "<table border=\"1\" class=\"dataframe\">\n",
              "  <thead>\n",
              "    <tr style=\"text-align: right;\">\n",
              "      <th></th>\n",
              "      <th>№</th>\n",
              "      <th>Узел ЩЖ, TIRADS</th>\n",
              "    </tr>\n",
              "  </thead>\n",
              "  <tbody>\n",
              "    <tr>\n",
              "      <th>0</th>\n",
              "      <td>178</td>\n",
              "      <td>4</td>\n",
              "    </tr>\n",
              "    <tr>\n",
              "      <th>1</th>\n",
              "      <td>179</td>\n",
              "      <td>5</td>\n",
              "    </tr>\n",
              "    <tr>\n",
              "      <th>2</th>\n",
              "      <td>180</td>\n",
              "      <td>3</td>\n",
              "    </tr>\n",
              "    <tr>\n",
              "      <th>3</th>\n",
              "      <td>181</td>\n",
              "      <td>5</td>\n",
              "    </tr>\n",
              "    <tr>\n",
              "      <th>4</th>\n",
              "      <td>182</td>\n",
              "      <td>3</td>\n",
              "    </tr>\n",
              "  </tbody>\n",
              "</table>\n",
              "</div>\n",
              "    <div class=\"colab-df-buttons\">\n",
              "\n",
              "  <div class=\"colab-df-container\">\n",
              "    <button class=\"colab-df-convert\" onclick=\"convertToInteractive('df-501e9e35-e391-404f-8c32-537dd448dce7')\"\n",
              "            title=\"Convert this dataframe to an interactive table.\"\n",
              "            style=\"display:none;\">\n",
              "\n",
              "  <svg xmlns=\"http://www.w3.org/2000/svg\" height=\"24px\" viewBox=\"0 -960 960 960\">\n",
              "    <path d=\"M120-120v-720h720v720H120Zm60-500h600v-160H180v160Zm220 220h160v-160H400v160Zm0 220h160v-160H400v160ZM180-400h160v-160H180v160Zm440 0h160v-160H620v160ZM180-180h160v-160H180v160Zm440 0h160v-160H620v160Z\"/>\n",
              "  </svg>\n",
              "    </button>\n",
              "\n",
              "  <style>\n",
              "    .colab-df-container {\n",
              "      display:flex;\n",
              "      gap: 12px;\n",
              "    }\n",
              "\n",
              "    .colab-df-convert {\n",
              "      background-color: #E8F0FE;\n",
              "      border: none;\n",
              "      border-radius: 50%;\n",
              "      cursor: pointer;\n",
              "      display: none;\n",
              "      fill: #1967D2;\n",
              "      height: 32px;\n",
              "      padding: 0 0 0 0;\n",
              "      width: 32px;\n",
              "    }\n",
              "\n",
              "    .colab-df-convert:hover {\n",
              "      background-color: #E2EBFA;\n",
              "      box-shadow: 0px 1px 2px rgba(60, 64, 67, 0.3), 0px 1px 3px 1px rgba(60, 64, 67, 0.15);\n",
              "      fill: #174EA6;\n",
              "    }\n",
              "\n",
              "    .colab-df-buttons div {\n",
              "      margin-bottom: 4px;\n",
              "    }\n",
              "\n",
              "    [theme=dark] .colab-df-convert {\n",
              "      background-color: #3B4455;\n",
              "      fill: #D2E3FC;\n",
              "    }\n",
              "\n",
              "    [theme=dark] .colab-df-convert:hover {\n",
              "      background-color: #434B5C;\n",
              "      box-shadow: 0px 1px 3px 1px rgba(0, 0, 0, 0.15);\n",
              "      filter: drop-shadow(0px 1px 2px rgba(0, 0, 0, 0.3));\n",
              "      fill: #FFFFFF;\n",
              "    }\n",
              "  </style>\n",
              "\n",
              "    <script>\n",
              "      const buttonEl =\n",
              "        document.querySelector('#df-501e9e35-e391-404f-8c32-537dd448dce7 button.colab-df-convert');\n",
              "      buttonEl.style.display =\n",
              "        google.colab.kernel.accessAllowed ? 'block' : 'none';\n",
              "\n",
              "      async function convertToInteractive(key) {\n",
              "        const element = document.querySelector('#df-501e9e35-e391-404f-8c32-537dd448dce7');\n",
              "        const dataTable =\n",
              "          await google.colab.kernel.invokeFunction('convertToInteractive',\n",
              "                                                    [key], {});\n",
              "        if (!dataTable) return;\n",
              "\n",
              "        const docLinkHtml = 'Like what you see? Visit the ' +\n",
              "          '<a target=\"_blank\" href=https://colab.research.google.com/notebooks/data_table.ipynb>data table notebook</a>'\n",
              "          + ' to learn more about interactive tables.';\n",
              "        element.innerHTML = '';\n",
              "        dataTable['output_type'] = 'display_data';\n",
              "        await google.colab.output.renderOutput(dataTable, element);\n",
              "        const docLink = document.createElement('div');\n",
              "        docLink.innerHTML = docLinkHtml;\n",
              "        element.appendChild(docLink);\n",
              "      }\n",
              "    </script>\n",
              "  </div>\n",
              "\n",
              "\n",
              "<div id=\"df-588e2fb6-52db-4c82-a130-71d5add742b6\">\n",
              "  <button class=\"colab-df-quickchart\" onclick=\"quickchart('df-588e2fb6-52db-4c82-a130-71d5add742b6')\"\n",
              "            title=\"Suggest charts.\"\n",
              "            style=\"display:none;\">\n",
              "\n",
              "<svg xmlns=\"http://www.w3.org/2000/svg\" height=\"24px\"viewBox=\"0 0 24 24\"\n",
              "     width=\"24px\">\n",
              "    <g>\n",
              "        <path d=\"M19 3H5c-1.1 0-2 .9-2 2v14c0 1.1.9 2 2 2h14c1.1 0 2-.9 2-2V5c0-1.1-.9-2-2-2zM9 17H7v-7h2v7zm4 0h-2V7h2v10zm4 0h-2v-4h2v4z\"/>\n",
              "    </g>\n",
              "</svg>\n",
              "  </button>\n",
              "\n",
              "<style>\n",
              "  .colab-df-quickchart {\n",
              "      --bg-color: #E8F0FE;\n",
              "      --fill-color: #1967D2;\n",
              "      --hover-bg-color: #E2EBFA;\n",
              "      --hover-fill-color: #174EA6;\n",
              "      --disabled-fill-color: #AAA;\n",
              "      --disabled-bg-color: #DDD;\n",
              "  }\n",
              "\n",
              "  [theme=dark] .colab-df-quickchart {\n",
              "      --bg-color: #3B4455;\n",
              "      --fill-color: #D2E3FC;\n",
              "      --hover-bg-color: #434B5C;\n",
              "      --hover-fill-color: #FFFFFF;\n",
              "      --disabled-bg-color: #3B4455;\n",
              "      --disabled-fill-color: #666;\n",
              "  }\n",
              "\n",
              "  .colab-df-quickchart {\n",
              "    background-color: var(--bg-color);\n",
              "    border: none;\n",
              "    border-radius: 50%;\n",
              "    cursor: pointer;\n",
              "    display: none;\n",
              "    fill: var(--fill-color);\n",
              "    height: 32px;\n",
              "    padding: 0;\n",
              "    width: 32px;\n",
              "  }\n",
              "\n",
              "  .colab-df-quickchart:hover {\n",
              "    background-color: var(--hover-bg-color);\n",
              "    box-shadow: 0 1px 2px rgba(60, 64, 67, 0.3), 0 1px 3px 1px rgba(60, 64, 67, 0.15);\n",
              "    fill: var(--button-hover-fill-color);\n",
              "  }\n",
              "\n",
              "  .colab-df-quickchart-complete:disabled,\n",
              "  .colab-df-quickchart-complete:disabled:hover {\n",
              "    background-color: var(--disabled-bg-color);\n",
              "    fill: var(--disabled-fill-color);\n",
              "    box-shadow: none;\n",
              "  }\n",
              "\n",
              "  .colab-df-spinner {\n",
              "    border: 2px solid var(--fill-color);\n",
              "    border-color: transparent;\n",
              "    border-bottom-color: var(--fill-color);\n",
              "    animation:\n",
              "      spin 1s steps(1) infinite;\n",
              "  }\n",
              "\n",
              "  @keyframes spin {\n",
              "    0% {\n",
              "      border-color: transparent;\n",
              "      border-bottom-color: var(--fill-color);\n",
              "      border-left-color: var(--fill-color);\n",
              "    }\n",
              "    20% {\n",
              "      border-color: transparent;\n",
              "      border-left-color: var(--fill-color);\n",
              "      border-top-color: var(--fill-color);\n",
              "    }\n",
              "    30% {\n",
              "      border-color: transparent;\n",
              "      border-left-color: var(--fill-color);\n",
              "      border-top-color: var(--fill-color);\n",
              "      border-right-color: var(--fill-color);\n",
              "    }\n",
              "    40% {\n",
              "      border-color: transparent;\n",
              "      border-right-color: var(--fill-color);\n",
              "      border-top-color: var(--fill-color);\n",
              "    }\n",
              "    60% {\n",
              "      border-color: transparent;\n",
              "      border-right-color: var(--fill-color);\n",
              "    }\n",
              "    80% {\n",
              "      border-color: transparent;\n",
              "      border-right-color: var(--fill-color);\n",
              "      border-bottom-color: var(--fill-color);\n",
              "    }\n",
              "    90% {\n",
              "      border-color: transparent;\n",
              "      border-bottom-color: var(--fill-color);\n",
              "    }\n",
              "  }\n",
              "</style>\n",
              "\n",
              "  <script>\n",
              "    async function quickchart(key) {\n",
              "      const quickchartButtonEl =\n",
              "        document.querySelector('#' + key + ' button');\n",
              "      quickchartButtonEl.disabled = true;  // To prevent multiple clicks.\n",
              "      quickchartButtonEl.classList.add('colab-df-spinner');\n",
              "      try {\n",
              "        const charts = await google.colab.kernel.invokeFunction(\n",
              "            'suggestCharts', [key], {});\n",
              "      } catch (error) {\n",
              "        console.error('Error during call to suggestCharts:', error);\n",
              "      }\n",
              "      quickchartButtonEl.classList.remove('colab-df-spinner');\n",
              "      quickchartButtonEl.classList.add('colab-df-quickchart-complete');\n",
              "    }\n",
              "    (() => {\n",
              "      let quickchartButtonEl =\n",
              "        document.querySelector('#df-588e2fb6-52db-4c82-a130-71d5add742b6 button');\n",
              "      quickchartButtonEl.style.display =\n",
              "        google.colab.kernel.accessAllowed ? 'block' : 'none';\n",
              "    })();\n",
              "  </script>\n",
              "</div>\n",
              "    </div>\n",
              "  </div>\n"
            ]
          },
          "metadata": {},
          "execution_count": 70
        }
      ]
    },
    {
      "cell_type": "markdown",
      "source": [
        "Для удобства поменяем тирадс на 0 и 1"
      ],
      "metadata": {
        "id": "PTQ0sUM4KiuP"
      }
    },
    {
      "cell_type": "code",
      "source": [
        "# df.loc[df['Узел ЩЖ, TIRADS'] < 5, 'Узел ЩЖ, TIRADS'] = 0\n",
        "# df.loc[df['Узел ЩЖ, TIRADS'] > 4, 'Узел ЩЖ, TIRADS'] = 1\n",
        "# df.head()"
      ],
      "metadata": {
        "id": "K353gQ3cKSAu"
      },
      "execution_count": 71,
      "outputs": []
    },
    {
      "cell_type": "markdown",
      "source": [
        "Напишем функцию, которая достает каждое пятое изображение из кинопетли"
      ],
      "metadata": {
        "id": "tImnXvXhLKVW"
      }
    },
    {
      "cell_type": "code",
      "source": [
        "from PIL import Image\n",
        "im = Image.open('/content/drive/MyDrive/Colab Notebooks/MEPHI/ResNet/data/178/178_TIRADS4_long.tif')\n",
        "im.show()"
      ],
      "metadata": {
        "id": "9EE0BRUnLAec"
      },
      "execution_count": 72,
      "outputs": []
    },
    {
      "cell_type": "code",
      "source": [
        "im.n_frames"
      ],
      "metadata": {
        "colab": {
          "base_uri": "https://localhost:8080/"
        },
        "id": "GtNxp-l3Ry-8",
        "outputId": "b5fe4772-af64-43aa-94e6-93073f5a1bc1"
      },
      "execution_count": 73,
      "outputs": [
        {
          "output_type": "execute_result",
          "data": {
            "text/plain": [
              "121"
            ]
          },
          "metadata": {},
          "execution_count": 73
        }
      ]
    },
    {
      "cell_type": "code",
      "source": [
        "def parse_tif(filePath, fileSave, numOfBlock):\n",
        "    if Path(filePath).is_file():\n",
        "      img = Image.open(filePath)\n",
        "      numFramesPerTif = img.n_frames\n",
        "      for i in range (numFramesPerTif):\n",
        "          if i%5 == 0:\n",
        "              try:\n",
        "                  img.seek(i)\n",
        "                  img.save(fileSave + numOfBlock +'Block_%s.jpg'%(i,))\n",
        "              except EOFError: #end of file error\n",
        "                  print('End of file error')\n"
      ],
      "metadata": {
        "id": "-z72l7pLN2gb"
      },
      "execution_count": 74,
      "outputs": []
    },
    {
      "cell_type": "code",
      "source": [
        "# parse_tif('/content/drive/MyDrive/Colab Notebooks/MEPHI/ResNet/data/178/178_TIRADS4_long.tif', '/content/drive/MyDrive/Colab Notebooks/MEPHI/ResNet/data', '2228' )"
      ],
      "metadata": {
        "id": "32XR5raZP2t7"
      },
      "execution_count": 75,
      "outputs": []
    },
    {
      "cell_type": "markdown",
      "source": [
        "Теперь извлечем каждое пятое фото из всех кинопетель и сохраним в отедльных папках для бинарной классификации.\n",
        "\n",
        "0 - в одной\n",
        "1 - в другой"
      ],
      "metadata": {
        "id": "AJFqiBC-VN0D"
      }
    },
    {
      "cell_type": "markdown",
      "source": [
        "Поменяем имена столбцов для удобства"
      ],
      "metadata": {
        "id": "mQR6-JkgXQMm"
      }
    },
    {
      "cell_type": "code",
      "source": [
        "df = df.rename(columns={'№': 'id', 'Узел ЩЖ, TIRADS': 'predict'})"
      ],
      "metadata": {
        "id": "LMNzSxihXPvr"
      },
      "execution_count": 76,
      "outputs": []
    },
    {
      "cell_type": "code",
      "source": [],
      "metadata": {
        "id": "VjqniHqxavUk"
      },
      "execution_count": 76,
      "outputs": []
    },
    {
      "cell_type": "code",
      "source": [
        "zero_df = df[df['predict'] < 5]\n",
        "one_df = df[df['predict'] == 5]\n",
        "\n",
        "zero_df.head()"
      ],
      "metadata": {
        "colab": {
          "base_uri": "https://localhost:8080/",
          "height": 206
        },
        "id": "mxksaOEgS1yi",
        "outputId": "375e5025-9383-4a78-d8cb-cd2639e35950"
      },
      "execution_count": 77,
      "outputs": [
        {
          "output_type": "execute_result",
          "data": {
            "text/plain": [
              "     id  predict\n",
              "0   178        4\n",
              "2   180        3\n",
              "4   182        3\n",
              "10  188        3\n",
              "11  189        4"
            ],
            "text/html": [
              "\n",
              "  <div id=\"df-9849b00e-b1db-43ab-bb04-9ce01b44d1b4\" class=\"colab-df-container\">\n",
              "    <div>\n",
              "<style scoped>\n",
              "    .dataframe tbody tr th:only-of-type {\n",
              "        vertical-align: middle;\n",
              "    }\n",
              "\n",
              "    .dataframe tbody tr th {\n",
              "        vertical-align: top;\n",
              "    }\n",
              "\n",
              "    .dataframe thead th {\n",
              "        text-align: right;\n",
              "    }\n",
              "</style>\n",
              "<table border=\"1\" class=\"dataframe\">\n",
              "  <thead>\n",
              "    <tr style=\"text-align: right;\">\n",
              "      <th></th>\n",
              "      <th>id</th>\n",
              "      <th>predict</th>\n",
              "    </tr>\n",
              "  </thead>\n",
              "  <tbody>\n",
              "    <tr>\n",
              "      <th>0</th>\n",
              "      <td>178</td>\n",
              "      <td>4</td>\n",
              "    </tr>\n",
              "    <tr>\n",
              "      <th>2</th>\n",
              "      <td>180</td>\n",
              "      <td>3</td>\n",
              "    </tr>\n",
              "    <tr>\n",
              "      <th>4</th>\n",
              "      <td>182</td>\n",
              "      <td>3</td>\n",
              "    </tr>\n",
              "    <tr>\n",
              "      <th>10</th>\n",
              "      <td>188</td>\n",
              "      <td>3</td>\n",
              "    </tr>\n",
              "    <tr>\n",
              "      <th>11</th>\n",
              "      <td>189</td>\n",
              "      <td>4</td>\n",
              "    </tr>\n",
              "  </tbody>\n",
              "</table>\n",
              "</div>\n",
              "    <div class=\"colab-df-buttons\">\n",
              "\n",
              "  <div class=\"colab-df-container\">\n",
              "    <button class=\"colab-df-convert\" onclick=\"convertToInteractive('df-9849b00e-b1db-43ab-bb04-9ce01b44d1b4')\"\n",
              "            title=\"Convert this dataframe to an interactive table.\"\n",
              "            style=\"display:none;\">\n",
              "\n",
              "  <svg xmlns=\"http://www.w3.org/2000/svg\" height=\"24px\" viewBox=\"0 -960 960 960\">\n",
              "    <path d=\"M120-120v-720h720v720H120Zm60-500h600v-160H180v160Zm220 220h160v-160H400v160Zm0 220h160v-160H400v160ZM180-400h160v-160H180v160Zm440 0h160v-160H620v160ZM180-180h160v-160H180v160Zm440 0h160v-160H620v160Z\"/>\n",
              "  </svg>\n",
              "    </button>\n",
              "\n",
              "  <style>\n",
              "    .colab-df-container {\n",
              "      display:flex;\n",
              "      gap: 12px;\n",
              "    }\n",
              "\n",
              "    .colab-df-convert {\n",
              "      background-color: #E8F0FE;\n",
              "      border: none;\n",
              "      border-radius: 50%;\n",
              "      cursor: pointer;\n",
              "      display: none;\n",
              "      fill: #1967D2;\n",
              "      height: 32px;\n",
              "      padding: 0 0 0 0;\n",
              "      width: 32px;\n",
              "    }\n",
              "\n",
              "    .colab-df-convert:hover {\n",
              "      background-color: #E2EBFA;\n",
              "      box-shadow: 0px 1px 2px rgba(60, 64, 67, 0.3), 0px 1px 3px 1px rgba(60, 64, 67, 0.15);\n",
              "      fill: #174EA6;\n",
              "    }\n",
              "\n",
              "    .colab-df-buttons div {\n",
              "      margin-bottom: 4px;\n",
              "    }\n",
              "\n",
              "    [theme=dark] .colab-df-convert {\n",
              "      background-color: #3B4455;\n",
              "      fill: #D2E3FC;\n",
              "    }\n",
              "\n",
              "    [theme=dark] .colab-df-convert:hover {\n",
              "      background-color: #434B5C;\n",
              "      box-shadow: 0px 1px 3px 1px rgba(0, 0, 0, 0.15);\n",
              "      filter: drop-shadow(0px 1px 2px rgba(0, 0, 0, 0.3));\n",
              "      fill: #FFFFFF;\n",
              "    }\n",
              "  </style>\n",
              "\n",
              "    <script>\n",
              "      const buttonEl =\n",
              "        document.querySelector('#df-9849b00e-b1db-43ab-bb04-9ce01b44d1b4 button.colab-df-convert');\n",
              "      buttonEl.style.display =\n",
              "        google.colab.kernel.accessAllowed ? 'block' : 'none';\n",
              "\n",
              "      async function convertToInteractive(key) {\n",
              "        const element = document.querySelector('#df-9849b00e-b1db-43ab-bb04-9ce01b44d1b4');\n",
              "        const dataTable =\n",
              "          await google.colab.kernel.invokeFunction('convertToInteractive',\n",
              "                                                    [key], {});\n",
              "        if (!dataTable) return;\n",
              "\n",
              "        const docLinkHtml = 'Like what you see? Visit the ' +\n",
              "          '<a target=\"_blank\" href=https://colab.research.google.com/notebooks/data_table.ipynb>data table notebook</a>'\n",
              "          + ' to learn more about interactive tables.';\n",
              "        element.innerHTML = '';\n",
              "        dataTable['output_type'] = 'display_data';\n",
              "        await google.colab.output.renderOutput(dataTable, element);\n",
              "        const docLink = document.createElement('div');\n",
              "        docLink.innerHTML = docLinkHtml;\n",
              "        element.appendChild(docLink);\n",
              "      }\n",
              "    </script>\n",
              "  </div>\n",
              "\n",
              "\n",
              "<div id=\"df-695aa2d4-b74e-402f-9a4b-1c317638939e\">\n",
              "  <button class=\"colab-df-quickchart\" onclick=\"quickchart('df-695aa2d4-b74e-402f-9a4b-1c317638939e')\"\n",
              "            title=\"Suggest charts.\"\n",
              "            style=\"display:none;\">\n",
              "\n",
              "<svg xmlns=\"http://www.w3.org/2000/svg\" height=\"24px\"viewBox=\"0 0 24 24\"\n",
              "     width=\"24px\">\n",
              "    <g>\n",
              "        <path d=\"M19 3H5c-1.1 0-2 .9-2 2v14c0 1.1.9 2 2 2h14c1.1 0 2-.9 2-2V5c0-1.1-.9-2-2-2zM9 17H7v-7h2v7zm4 0h-2V7h2v10zm4 0h-2v-4h2v4z\"/>\n",
              "    </g>\n",
              "</svg>\n",
              "  </button>\n",
              "\n",
              "<style>\n",
              "  .colab-df-quickchart {\n",
              "      --bg-color: #E8F0FE;\n",
              "      --fill-color: #1967D2;\n",
              "      --hover-bg-color: #E2EBFA;\n",
              "      --hover-fill-color: #174EA6;\n",
              "      --disabled-fill-color: #AAA;\n",
              "      --disabled-bg-color: #DDD;\n",
              "  }\n",
              "\n",
              "  [theme=dark] .colab-df-quickchart {\n",
              "      --bg-color: #3B4455;\n",
              "      --fill-color: #D2E3FC;\n",
              "      --hover-bg-color: #434B5C;\n",
              "      --hover-fill-color: #FFFFFF;\n",
              "      --disabled-bg-color: #3B4455;\n",
              "      --disabled-fill-color: #666;\n",
              "  }\n",
              "\n",
              "  .colab-df-quickchart {\n",
              "    background-color: var(--bg-color);\n",
              "    border: none;\n",
              "    border-radius: 50%;\n",
              "    cursor: pointer;\n",
              "    display: none;\n",
              "    fill: var(--fill-color);\n",
              "    height: 32px;\n",
              "    padding: 0;\n",
              "    width: 32px;\n",
              "  }\n",
              "\n",
              "  .colab-df-quickchart:hover {\n",
              "    background-color: var(--hover-bg-color);\n",
              "    box-shadow: 0 1px 2px rgba(60, 64, 67, 0.3), 0 1px 3px 1px rgba(60, 64, 67, 0.15);\n",
              "    fill: var(--button-hover-fill-color);\n",
              "  }\n",
              "\n",
              "  .colab-df-quickchart-complete:disabled,\n",
              "  .colab-df-quickchart-complete:disabled:hover {\n",
              "    background-color: var(--disabled-bg-color);\n",
              "    fill: var(--disabled-fill-color);\n",
              "    box-shadow: none;\n",
              "  }\n",
              "\n",
              "  .colab-df-spinner {\n",
              "    border: 2px solid var(--fill-color);\n",
              "    border-color: transparent;\n",
              "    border-bottom-color: var(--fill-color);\n",
              "    animation:\n",
              "      spin 1s steps(1) infinite;\n",
              "  }\n",
              "\n",
              "  @keyframes spin {\n",
              "    0% {\n",
              "      border-color: transparent;\n",
              "      border-bottom-color: var(--fill-color);\n",
              "      border-left-color: var(--fill-color);\n",
              "    }\n",
              "    20% {\n",
              "      border-color: transparent;\n",
              "      border-left-color: var(--fill-color);\n",
              "      border-top-color: var(--fill-color);\n",
              "    }\n",
              "    30% {\n",
              "      border-color: transparent;\n",
              "      border-left-color: var(--fill-color);\n",
              "      border-top-color: var(--fill-color);\n",
              "      border-right-color: var(--fill-color);\n",
              "    }\n",
              "    40% {\n",
              "      border-color: transparent;\n",
              "      border-right-color: var(--fill-color);\n",
              "      border-top-color: var(--fill-color);\n",
              "    }\n",
              "    60% {\n",
              "      border-color: transparent;\n",
              "      border-right-color: var(--fill-color);\n",
              "    }\n",
              "    80% {\n",
              "      border-color: transparent;\n",
              "      border-right-color: var(--fill-color);\n",
              "      border-bottom-color: var(--fill-color);\n",
              "    }\n",
              "    90% {\n",
              "      border-color: transparent;\n",
              "      border-bottom-color: var(--fill-color);\n",
              "    }\n",
              "  }\n",
              "</style>\n",
              "\n",
              "  <script>\n",
              "    async function quickchart(key) {\n",
              "      const quickchartButtonEl =\n",
              "        document.querySelector('#' + key + ' button');\n",
              "      quickchartButtonEl.disabled = true;  // To prevent multiple clicks.\n",
              "      quickchartButtonEl.classList.add('colab-df-spinner');\n",
              "      try {\n",
              "        const charts = await google.colab.kernel.invokeFunction(\n",
              "            'suggestCharts', [key], {});\n",
              "      } catch (error) {\n",
              "        console.error('Error during call to suggestCharts:', error);\n",
              "      }\n",
              "      quickchartButtonEl.classList.remove('colab-df-spinner');\n",
              "      quickchartButtonEl.classList.add('colab-df-quickchart-complete');\n",
              "    }\n",
              "    (() => {\n",
              "      let quickchartButtonEl =\n",
              "        document.querySelector('#df-695aa2d4-b74e-402f-9a4b-1c317638939e button');\n",
              "      quickchartButtonEl.style.display =\n",
              "        google.colab.kernel.accessAllowed ? 'block' : 'none';\n",
              "    })();\n",
              "  </script>\n",
              "</div>\n",
              "    </div>\n",
              "  </div>\n"
            ]
          },
          "metadata": {},
          "execution_count": 77
        }
      ]
    },
    {
      "cell_type": "code",
      "source": [
        "save_path0 = '/content/drive/MyDrive/Colab Notebooks/MEPHI/ResNet/train_data_jpg/zero/'\n",
        "for index, row in zero_df.iterrows ():\n",
        "  parse_tif('/content/drive/MyDrive/Colab Notebooks/MEPHI/ResNet/data/' + str(row['id']) + '/' + str(row['id']) + '_TIRADS' + str(row['predict']) + '_cross.tif', save_path0, str(row['id']) )\n",
        "  parse_tif('/content/drive/MyDrive/Colab Notebooks/MEPHI/ResNet/data/' + str(row['id']) + '/' + str(row['id']) + '_TIRADS' + str(row['predict']) + '_long.tif', save_path0, str(row['id']) )\n",
        "#  print(row['predict'])\n"
      ],
      "metadata": {
        "id": "ENuZ05pnWU2o"
      },
      "execution_count": 78,
      "outputs": []
    },
    {
      "cell_type": "code",
      "source": [
        "save_path1 = '/content/drive/MyDrive/Colab Notebooks/MEPHI/ResNet/train_data_jpg/one/'\n",
        "for index, row in one_df.iterrows ():\n",
        "  parse_tif('/content/drive/MyDrive/Colab Notebooks/MEPHI/ResNet/data/' + str(row['id']) + '/' + str(row['id']) + '_TIRADS' + str(row['predict']) + '_cross.tif', save_path1, str(row['id']) )\n",
        "  parse_tif('/content/drive/MyDrive/Colab Notebooks/MEPHI/ResNet/data/' + str(row['id']) + '/' + str(row['id']) + '_TIRADS' + str(row['predict']) + '_long.tif', save_path1, str(row['id']) )"
      ],
      "metadata": {
        "id": "zkciUrvXX4Yo"
      },
      "execution_count": 79,
      "outputs": []
    },
    {
      "cell_type": "markdown",
      "source": [
        "Разделим теперь на тренировочную и тестовую выборки"
      ],
      "metadata": {
        "id": "8XnsOS4flAf2"
      }
    },
    {
      "cell_type": "code",
      "source": [
        "pip install split-folders"
      ],
      "metadata": {
        "colab": {
          "base_uri": "https://localhost:8080/"
        },
        "id": "oRXP1VJTcZfL",
        "outputId": "e13bc93d-fe8e-491d-dd5b-13873d0ee87f"
      },
      "execution_count": 80,
      "outputs": [
        {
          "output_type": "stream",
          "name": "stdout",
          "text": [
            "Requirement already satisfied: split-folders in /usr/local/lib/python3.10/dist-packages (0.5.1)\n"
          ]
        }
      ]
    },
    {
      "cell_type": "markdown",
      "source": [
        "Тестовая выборка не нужна, ограничимся валидационной и тренировочной для улучшения результата"
      ],
      "metadata": {
        "id": "AafBqOm--0Wv"
      }
    },
    {
      "cell_type": "code",
      "source": [
        "import splitfolders\n",
        "splitfolders.ratio('/content/drive/MyDrive/Colab Notebooks/MEPHI/ResNet/train_data_jpg', output=\"/content/drive/MyDrive/Colab Notebooks/MEPHI/ResNet/output\", seed=1337, ratio=(.85, 0.15, 0))\n"
      ],
      "metadata": {
        "colab": {
          "base_uri": "https://localhost:8080/"
        },
        "id": "eKigmKN_m9iL",
        "outputId": "c7026bcf-7481-452d-9726-0258da1d9b75"
      },
      "execution_count": 81,
      "outputs": [
        {
          "output_type": "stream",
          "name": "stderr",
          "text": [
            "Copying files: 841 files [00:17, 49.29 files/s]\n"
          ]
        }
      ]
    },
    {
      "cell_type": "markdown",
      "source": [
        "![image.png](data:image/png;base64,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)"
      ],
      "metadata": {
        "id": "kTEBCWAnpF80"
      }
    },
    {
      "cell_type": "markdown",
      "source": [
        "Данные готовы к обучению"
      ],
      "metadata": {
        "id": "66FpzboDp96s"
      }
    },
    {
      "cell_type": "markdown",
      "source": [
        "#Подготовка модели"
      ],
      "metadata": {
        "id": "jTRSSM45qEao"
      }
    },
    {
      "cell_type": "code",
      "source": [
        "import os\n",
        "from time import time\n",
        "from tqdm import tqdm\n",
        "import numpy\n",
        "\n",
        "import torch\n",
        "from torch.nn import Linear, CrossEntropyLoss\n",
        "from torch.optim import Adam\n",
        "from torch.utils.data import DataLoader\n",
        "\n",
        "import torchvision\n",
        "from torchvision.datasets import ImageFolder\n",
        "from torchvision.models import resnet18\n",
        "from torchvision.transforms import transforms\n",
        "\n",
        "\n",
        "# Device\n",
        "device = torch.device(\"cuda\" if torch.cuda.is_available() else \"cpu\")"
      ],
      "metadata": {
        "id": "QTuSrwBKnVmc"
      },
      "execution_count": 82,
      "outputs": []
    },
    {
      "cell_type": "markdown",
      "source": [
        "Создадим трансфермер для данных\n",
        "\n",
        "Вращать картинки смысла нет"
      ],
      "metadata": {
        "id": "jVaTWsGtqPtE"
      }
    },
    {
      "cell_type": "code",
      "source": [
        "tfm = transforms.Compose([\n",
        "    transforms.Resize((224, 224)),\n",
        "    # transforms.RandomHorizontalFlip(),\n",
        "    # transforms.RandomRotation(degrees=10),\n",
        "    transforms.ToTensor(),\n",
        "    transforms.Normalize([0.485, 0.456, 0.406], [0.229, 0.224, 0.225])\n",
        "])"
      ],
      "metadata": {
        "id": "WYaKGMp9qKFK"
      },
      "execution_count": 83,
      "outputs": []
    },
    {
      "cell_type": "markdown",
      "source": [
        "Создадим датасет"
      ],
      "metadata": {
        "id": "yF5pX-tBrFxE"
      }
    },
    {
      "cell_type": "code",
      "source": [
        "TRAIN_ROOT = \"/content/drive/MyDrive/Colab Notebooks/MEPHI/ResNet/output/train\"\n",
        "# TEST_ROOT = \"/content/drive/MyDrive/Colab Notebooks/MEPHI/ResNet/output/test\"\n",
        "VAL_ROOT = \"/content/drive/MyDrive/Colab Notebooks/MEPHI/ResNet/output/val\"\n",
        "\n",
        "train_ds = ImageFolder(TRAIN_ROOT, transform=tfm)\n",
        "# test_ds = ImageFolder(TEST_ROOT, transform=tfm)\n",
        "val_ds = ImageFolder(VAL_ROOT, transform=tfm)"
      ],
      "metadata": {
        "id": "KeYzPUH9qUxY"
      },
      "execution_count": 84,
      "outputs": []
    },
    {
      "cell_type": "markdown",
      "source": [
        "Посмотрим на данные"
      ],
      "metadata": {
        "id": "jXzX_6v_reKL"
      }
    },
    {
      "cell_type": "code",
      "source": [
        "LEN_TRAIN = len(train_ds)\n",
        "# LEN_TEST = len(test_ds)\n",
        "LEN_VAL = len(val_ds)\n",
        "print(f'Len of Train: {LEN_TRAIN} , Len of val: {LEN_VAL} ') #, Len of Test: {LEN_TEST}  ')\n",
        "\n",
        "print(train_ds.class_to_idx)"
      ],
      "metadata": {
        "colab": {
          "base_uri": "https://localhost:8080/"
        },
        "id": "tgWC4Je1rShH",
        "outputId": "3358413f-ae29-419a-b6cd-64ab9ebef45f"
      },
      "execution_count": 85,
      "outputs": [
        {
          "output_type": "stream",
          "name": "stdout",
          "text": [
            "Len of Train: 713 , Len of val: 126 \n",
            "{'one': 0, 'zero': 1}\n"
          ]
        }
      ]
    },
    {
      "cell_type": "markdown",
      "source": [
        "Создадим загрузчик данных батчами"
      ],
      "metadata": {
        "id": "uK5JD5_VrpY5"
      }
    },
    {
      "cell_type": "code",
      "source": [
        "train_loader = DataLoader(train_ds, batch_size = 30, shuffle=True)\n",
        "# test_loader = DataLoader(test_ds, batch_size=30, shuffle = True)\n",
        "val_loader = DataLoader(val_ds, batch_size=30, shuffle = True)"
      ],
      "metadata": {
        "id": "Dba1pP9grkdI"
      },
      "execution_count": 86,
      "outputs": []
    },
    {
      "cell_type": "markdown",
      "source": [
        "Создадим модель ResNet-18"
      ],
      "metadata": {
        "id": "G_R7mcVLsn7v"
      }
    },
    {
      "cell_type": "code",
      "source": [
        "model = resnet18(pretrained=True)\n",
        "model"
      ],
      "metadata": {
        "colab": {
          "base_uri": "https://localhost:8080/"
        },
        "id": "Q5kA-WVcsm33",
        "outputId": "1f2775fa-c6af-4ac7-c53c-091ac92a3c8f"
      },
      "execution_count": 87,
      "outputs": [
        {
          "output_type": "stream",
          "name": "stderr",
          "text": [
            "/usr/local/lib/python3.10/dist-packages/torchvision/models/_utils.py:208: UserWarning: The parameter 'pretrained' is deprecated since 0.13 and may be removed in the future, please use 'weights' instead.\n",
            "  warnings.warn(\n",
            "/usr/local/lib/python3.10/dist-packages/torchvision/models/_utils.py:223: UserWarning: Arguments other than a weight enum or `None` for 'weights' are deprecated since 0.13 and may be removed in the future. The current behavior is equivalent to passing `weights=ResNet18_Weights.IMAGENET1K_V1`. You can also use `weights=ResNet18_Weights.DEFAULT` to get the most up-to-date weights.\n",
            "  warnings.warn(msg)\n"
          ]
        },
        {
          "output_type": "execute_result",
          "data": {
            "text/plain": [
              "ResNet(\n",
              "  (conv1): Conv2d(3, 64, kernel_size=(7, 7), stride=(2, 2), padding=(3, 3), bias=False)\n",
              "  (bn1): BatchNorm2d(64, eps=1e-05, momentum=0.1, affine=True, track_running_stats=True)\n",
              "  (relu): ReLU(inplace=True)\n",
              "  (maxpool): MaxPool2d(kernel_size=3, stride=2, padding=1, dilation=1, ceil_mode=False)\n",
              "  (layer1): Sequential(\n",
              "    (0): BasicBlock(\n",
              "      (conv1): Conv2d(64, 64, kernel_size=(3, 3), stride=(1, 1), padding=(1, 1), bias=False)\n",
              "      (bn1): BatchNorm2d(64, eps=1e-05, momentum=0.1, affine=True, track_running_stats=True)\n",
              "      (relu): ReLU(inplace=True)\n",
              "      (conv2): Conv2d(64, 64, kernel_size=(3, 3), stride=(1, 1), padding=(1, 1), bias=False)\n",
              "      (bn2): BatchNorm2d(64, eps=1e-05, momentum=0.1, affine=True, track_running_stats=True)\n",
              "    )\n",
              "    (1): BasicBlock(\n",
              "      (conv1): Conv2d(64, 64, kernel_size=(3, 3), stride=(1, 1), padding=(1, 1), bias=False)\n",
              "      (bn1): BatchNorm2d(64, eps=1e-05, momentum=0.1, affine=True, track_running_stats=True)\n",
              "      (relu): ReLU(inplace=True)\n",
              "      (conv2): Conv2d(64, 64, kernel_size=(3, 3), stride=(1, 1), padding=(1, 1), bias=False)\n",
              "      (bn2): BatchNorm2d(64, eps=1e-05, momentum=0.1, affine=True, track_running_stats=True)\n",
              "    )\n",
              "  )\n",
              "  (layer2): Sequential(\n",
              "    (0): BasicBlock(\n",
              "      (conv1): Conv2d(64, 128, kernel_size=(3, 3), stride=(2, 2), padding=(1, 1), bias=False)\n",
              "      (bn1): BatchNorm2d(128, eps=1e-05, momentum=0.1, affine=True, track_running_stats=True)\n",
              "      (relu): ReLU(inplace=True)\n",
              "      (conv2): Conv2d(128, 128, kernel_size=(3, 3), stride=(1, 1), padding=(1, 1), bias=False)\n",
              "      (bn2): BatchNorm2d(128, eps=1e-05, momentum=0.1, affine=True, track_running_stats=True)\n",
              "      (downsample): Sequential(\n",
              "        (0): Conv2d(64, 128, kernel_size=(1, 1), stride=(2, 2), bias=False)\n",
              "        (1): BatchNorm2d(128, eps=1e-05, momentum=0.1, affine=True, track_running_stats=True)\n",
              "      )\n",
              "    )\n",
              "    (1): BasicBlock(\n",
              "      (conv1): Conv2d(128, 128, kernel_size=(3, 3), stride=(1, 1), padding=(1, 1), bias=False)\n",
              "      (bn1): BatchNorm2d(128, eps=1e-05, momentum=0.1, affine=True, track_running_stats=True)\n",
              "      (relu): ReLU(inplace=True)\n",
              "      (conv2): Conv2d(128, 128, kernel_size=(3, 3), stride=(1, 1), padding=(1, 1), bias=False)\n",
              "      (bn2): BatchNorm2d(128, eps=1e-05, momentum=0.1, affine=True, track_running_stats=True)\n",
              "    )\n",
              "  )\n",
              "  (layer3): Sequential(\n",
              "    (0): BasicBlock(\n",
              "      (conv1): Conv2d(128, 256, kernel_size=(3, 3), stride=(2, 2), padding=(1, 1), bias=False)\n",
              "      (bn1): BatchNorm2d(256, eps=1e-05, momentum=0.1, affine=True, track_running_stats=True)\n",
              "      (relu): ReLU(inplace=True)\n",
              "      (conv2): Conv2d(256, 256, kernel_size=(3, 3), stride=(1, 1), padding=(1, 1), bias=False)\n",
              "      (bn2): BatchNorm2d(256, eps=1e-05, momentum=0.1, affine=True, track_running_stats=True)\n",
              "      (downsample): Sequential(\n",
              "        (0): Conv2d(128, 256, kernel_size=(1, 1), stride=(2, 2), bias=False)\n",
              "        (1): BatchNorm2d(256, eps=1e-05, momentum=0.1, affine=True, track_running_stats=True)\n",
              "      )\n",
              "    )\n",
              "    (1): BasicBlock(\n",
              "      (conv1): Conv2d(256, 256, kernel_size=(3, 3), stride=(1, 1), padding=(1, 1), bias=False)\n",
              "      (bn1): BatchNorm2d(256, eps=1e-05, momentum=0.1, affine=True, track_running_stats=True)\n",
              "      (relu): ReLU(inplace=True)\n",
              "      (conv2): Conv2d(256, 256, kernel_size=(3, 3), stride=(1, 1), padding=(1, 1), bias=False)\n",
              "      (bn2): BatchNorm2d(256, eps=1e-05, momentum=0.1, affine=True, track_running_stats=True)\n",
              "    )\n",
              "  )\n",
              "  (layer4): Sequential(\n",
              "    (0): BasicBlock(\n",
              "      (conv1): Conv2d(256, 512, kernel_size=(3, 3), stride=(2, 2), padding=(1, 1), bias=False)\n",
              "      (bn1): BatchNorm2d(512, eps=1e-05, momentum=0.1, affine=True, track_running_stats=True)\n",
              "      (relu): ReLU(inplace=True)\n",
              "      (conv2): Conv2d(512, 512, kernel_size=(3, 3), stride=(1, 1), padding=(1, 1), bias=False)\n",
              "      (bn2): BatchNorm2d(512, eps=1e-05, momentum=0.1, affine=True, track_running_stats=True)\n",
              "      (downsample): Sequential(\n",
              "        (0): Conv2d(256, 512, kernel_size=(1, 1), stride=(2, 2), bias=False)\n",
              "        (1): BatchNorm2d(512, eps=1e-05, momentum=0.1, affine=True, track_running_stats=True)\n",
              "      )\n",
              "    )\n",
              "    (1): BasicBlock(\n",
              "      (conv1): Conv2d(512, 512, kernel_size=(3, 3), stride=(1, 1), padding=(1, 1), bias=False)\n",
              "      (bn1): BatchNorm2d(512, eps=1e-05, momentum=0.1, affine=True, track_running_stats=True)\n",
              "      (relu): ReLU(inplace=True)\n",
              "      (conv2): Conv2d(512, 512, kernel_size=(3, 3), stride=(1, 1), padding=(1, 1), bias=False)\n",
              "      (bn2): BatchNorm2d(512, eps=1e-05, momentum=0.1, affine=True, track_running_stats=True)\n",
              "    )\n",
              "  )\n",
              "  (avgpool): AdaptiveAvgPool2d(output_size=(1, 1))\n",
              "  (fc): Linear(in_features=512, out_features=1000, bias=True)\n",
              ")"
            ]
          },
          "metadata": {},
          "execution_count": 87
        }
      ]
    },
    {
      "cell_type": "markdown",
      "source": [
        "Заменим выходной линейных слой, чтоб на вызоде было 2 фичи"
      ],
      "metadata": {
        "id": "lZwKdKD5szUZ"
      }
    },
    {
      "cell_type": "code",
      "source": [
        "model.fc = Linear(in_features=512, out_features=2)\n",
        "model = model.to(device)\n",
        "# model = model.cuda()"
      ],
      "metadata": {
        "id": "CE2sB_HWry_O"
      },
      "execution_count": 88,
      "outputs": []
    },
    {
      "cell_type": "markdown",
      "source": [
        "Зададим оптимизатор и лосс функцию"
      ],
      "metadata": {
        "id": "rjuX55hztFtG"
      }
    },
    {
      "cell_type": "code",
      "source": [
        "optimiser = Adam(model.parameters(), lr=3e-4, weight_decay=0.0001)\n",
        "\n",
        "loss_fn = CrossEntropyLoss()"
      ],
      "metadata": {
        "id": "x978I4WctBoA"
      },
      "execution_count": 89,
      "outputs": []
    },
    {
      "cell_type": "markdown",
      "source": [
        "#Приступим к тренировке модели"
      ],
      "metadata": {
        "id": "IPhT4fMstPq4"
      }
    },
    {
      "cell_type": "code",
      "source": [
        "EPOSH = 15\n",
        "validation_accuracy = [] #\n",
        "train_accuracy = [] #\n",
        "\n",
        "validation_losses = [] #\n",
        "train_losses = [] #\n",
        "\n",
        "epoch_list = []"
      ],
      "metadata": {
        "id": "s6Ndteh5wotV"
      },
      "execution_count": 90,
      "outputs": []
    },
    {
      "cell_type": "code",
      "source": [
        "for epoch in range(EPOSH):\n",
        "    epoch+=1\n",
        "    epoch_list.append(epoch)\n",
        "    start = time()\n",
        "\n",
        "    tr_acc = 0\n",
        "    val_acc = 0\n",
        "\n",
        "    # Train\n",
        "    model.train()\n",
        "\n",
        "    with tqdm(train_loader, unit=\"batch\") as tepoch:\n",
        "        for xtrain, ytrain in tepoch:\n",
        "            optimiser.zero_grad()\n",
        "\n",
        "            #forward & backward\n",
        "            xtrain = xtrain.to(device)\n",
        "            train_prob = model(xtrain)\n",
        "            train_prob = train_prob.cpu()\n",
        "\n",
        "            train_loss = loss_fn(train_prob, ytrain)\n",
        "            train_loss.backward()\n",
        "            optimiser.step()\n",
        "\n",
        "            # training ends\n",
        "\n",
        "            train_pred = torch.max(train_prob, 1).indices\n",
        "            tr_acc += int(torch.sum(train_pred == ytrain))\n",
        "\n",
        "        ep_tr_acc = tr_acc / LEN_TRAIN\n",
        "\n",
        "    # Evaluate\n",
        "    model.eval()\n",
        "    with torch.no_grad():\n",
        "        for xval, yval in val_loader:\n",
        "            xval = xval.to(device)\n",
        "            val_prob = model(xval)\n",
        "            val_prob = val_prob.cpu()\n",
        "\n",
        "            val_pred = torch.max(val_prob,1).indices\n",
        "            val_acc += int(torch.sum(val_pred == yval))\n",
        "\n",
        "            valid_loss = loss_fn(val_prob, yval)\n",
        "\n",
        "        ep_val_acc = val_acc / LEN_VAL\n",
        "\n",
        "    end = time()\n",
        "    duration = (end - start) / 60\n",
        "\n",
        "    validation_losses.append(valid_loss)\n",
        "    train_losses.append(train_loss)\n",
        "\n",
        "    validation_accuracy.append(ep_val_acc)\n",
        "    train_accuracy.append(ep_tr_acc)\n",
        "\n",
        "    print(f\"Epoch: {epoch}, Time: {duration},\\nTrain loss: {train_loss}, Validation loss: {valid_loss} \\nTrain_acc: {ep_tr_acc}, Val_acc: {ep_val_acc}\")"
      ],
      "metadata": {
        "colab": {
          "base_uri": "https://localhost:8080/"
        },
        "id": "D6LRlVKCtMDm",
        "outputId": "3ea73861-0ab1-4c8a-c7b3-22010adb2565"
      },
      "execution_count": 91,
      "outputs": [
        {
          "output_type": "stream",
          "name": "stderr",
          "text": [
            "100%|██████████| 24/24 [03:54<00:00,  9.75s/batch]\n"
          ]
        },
        {
          "output_type": "stream",
          "name": "stdout",
          "text": [
            "Epoch: 1, Time: 4.095982865492503,\n",
            "Train loss: 0.13100288808345795, Validation loss: 0.3985464870929718 \n",
            "Train_acc: 0.8457223001402524, Val_acc: 0.7063492063492064\n"
          ]
        },
        {
          "output_type": "stream",
          "name": "stderr",
          "text": [
            "100%|██████████| 24/24 [03:33<00:00,  8.90s/batch]\n"
          ]
        },
        {
          "output_type": "stream",
          "name": "stdout",
          "text": [
            "Epoch: 2, Time: 3.7752321561177573,\n",
            "Train loss: 0.05125987157225609, Validation loss: 0.0016808310756459832 \n",
            "Train_acc: 0.9845722300140253, Val_acc: 1.0\n"
          ]
        },
        {
          "output_type": "stream",
          "name": "stderr",
          "text": [
            "100%|██████████| 24/24 [03:32<00:00,  8.86s/batch]\n"
          ]
        },
        {
          "output_type": "stream",
          "name": "stdout",
          "text": [
            "Epoch: 3, Time: 3.764577587445577,\n",
            "Train loss: 0.09031263738870621, Validation loss: 0.041400518268346786 \n",
            "Train_acc: 0.9971949509116409, Val_acc: 0.9920634920634921\n"
          ]
        },
        {
          "output_type": "stream",
          "name": "stderr",
          "text": [
            "100%|██████████| 24/24 [03:36<00:00,  9.01s/batch]\n"
          ]
        },
        {
          "output_type": "stream",
          "name": "stdout",
          "text": [
            "Epoch: 4, Time: 3.8563130021095278,\n",
            "Train loss: 0.007740730885416269, Validation loss: 0.047330815345048904 \n",
            "Train_acc: 0.9901823281907434, Val_acc: 0.9841269841269841\n"
          ]
        },
        {
          "output_type": "stream",
          "name": "stderr",
          "text": [
            "100%|██████████| 24/24 [03:32<00:00,  8.85s/batch]\n"
          ]
        },
        {
          "output_type": "stream",
          "name": "stdout",
          "text": [
            "Epoch: 5, Time: 3.752415184179942,\n",
            "Train loss: 0.0006412574439309537, Validation loss: 0.00019008609524462372 \n",
            "Train_acc: 0.9985974754558204, Val_acc: 1.0\n"
          ]
        },
        {
          "output_type": "stream",
          "name": "stderr",
          "text": [
            "100%|██████████| 24/24 [03:28<00:00,  8.68s/batch]\n"
          ]
        },
        {
          "output_type": "stream",
          "name": "stdout",
          "text": [
            "Epoch: 6, Time: 3.6813414732615155,\n",
            "Train loss: 0.00011993835505563766, Validation loss: 0.004607574548572302 \n",
            "Train_acc: 0.9985974754558204, Val_acc: 0.9920634920634921\n"
          ]
        },
        {
          "output_type": "stream",
          "name": "stderr",
          "text": [
            "100%|██████████| 24/24 [03:31<00:00,  8.80s/batch]\n"
          ]
        },
        {
          "output_type": "stream",
          "name": "stdout",
          "text": [
            "Epoch: 7, Time: 3.7341872731844585,\n",
            "Train loss: 0.005202068481594324, Validation loss: 0.4784241020679474 \n",
            "Train_acc: 0.9803646563814866, Val_acc: 0.8888888888888888\n"
          ]
        },
        {
          "output_type": "stream",
          "name": "stderr",
          "text": [
            "100%|██████████| 24/24 [03:31<00:00,  8.81s/batch]\n"
          ]
        },
        {
          "output_type": "stream",
          "name": "stdout",
          "text": [
            "Epoch: 8, Time: 3.739755594730377,\n",
            "Train loss: 0.24249373376369476, Validation loss: 0.09005841612815857 \n",
            "Train_acc: 0.9887798036465638, Val_acc: 0.9682539682539683\n"
          ]
        },
        {
          "output_type": "stream",
          "name": "stderr",
          "text": [
            "100%|██████████| 24/24 [03:32<00:00,  8.85s/batch]\n"
          ]
        },
        {
          "output_type": "stream",
          "name": "stdout",
          "text": [
            "Epoch: 9, Time: 3.7820143699645996,\n",
            "Train loss: 0.0022626053541898727, Validation loss: 0.00015327507571782917 \n",
            "Train_acc: 0.9803646563814866, Val_acc: 0.9920634920634921\n"
          ]
        },
        {
          "output_type": "stream",
          "name": "stderr",
          "text": [
            "100%|██████████| 24/24 [03:31<00:00,  8.79s/batch]\n"
          ]
        },
        {
          "output_type": "stream",
          "name": "stdout",
          "text": [
            "Epoch: 10, Time: 3.7329417943954466,\n",
            "Train loss: 0.004695124924182892, Validation loss: 0.021816326305270195 \n",
            "Train_acc: 0.9929873772791024, Val_acc: 0.9841269841269841\n"
          ]
        },
        {
          "output_type": "stream",
          "name": "stderr",
          "text": [
            "100%|██████████| 24/24 [03:29<00:00,  8.73s/batch]\n"
          ]
        },
        {
          "output_type": "stream",
          "name": "stdout",
          "text": [
            "Epoch: 11, Time: 3.704097294807434,\n",
            "Train loss: 0.0018540992168709636, Validation loss: 0.006900345906615257 \n",
            "Train_acc: 0.9915848527349228, Val_acc: 1.0\n"
          ]
        },
        {
          "output_type": "stream",
          "name": "stderr",
          "text": [
            "100%|██████████| 24/24 [03:32<00:00,  8.85s/batch]\n"
          ]
        },
        {
          "output_type": "stream",
          "name": "stdout",
          "text": [
            "Epoch: 12, Time: 3.754653223355611,\n",
            "Train loss: 0.0007365618948824704, Validation loss: 0.0001824251376092434 \n",
            "Train_acc: 0.9957924263674615, Val_acc: 1.0\n"
          ]
        },
        {
          "output_type": "stream",
          "name": "stderr",
          "text": [
            "100%|██████████| 24/24 [03:32<00:00,  8.85s/batch]\n"
          ]
        },
        {
          "output_type": "stream",
          "name": "stdout",
          "text": [
            "Epoch: 13, Time: 3.7433802644411722,\n",
            "Train loss: 0.0031331961508840322, Validation loss: 0.0011762080248445272 \n",
            "Train_acc: 0.9859747545582047, Val_acc: 0.9761904761904762\n"
          ]
        },
        {
          "output_type": "stream",
          "name": "stderr",
          "text": [
            "100%|██████████| 24/24 [03:32<00:00,  8.84s/batch]\n"
          ]
        },
        {
          "output_type": "stream",
          "name": "stdout",
          "text": [
            "Epoch: 14, Time: 3.74662823677063,\n",
            "Train loss: 0.0006492047104984522, Validation loss: 0.006929293274879456 \n",
            "Train_acc: 0.9887798036465638, Val_acc: 0.9920634920634921\n"
          ]
        },
        {
          "output_type": "stream",
          "name": "stderr",
          "text": [
            "100%|██████████| 24/24 [03:31<00:00,  8.80s/batch]\n"
          ]
        },
        {
          "output_type": "stream",
          "name": "stdout",
          "text": [
            "Epoch: 15, Time: 3.7356797734896343,\n",
            "Train loss: 0.0008238997543230653, Validation loss: 0.009783845394849777 \n",
            "Train_acc: 0.9971949509116409, Val_acc: 0.9920634920634921\n"
          ]
        }
      ]
    },
    {
      "cell_type": "markdown",
      "source": [
        "#Проверка на тестовой выборке"
      ],
      "metadata": {
        "id": "C0ghq4fPwPl7"
      }
    },
    {
      "cell_type": "code",
      "source": [
        "# for x, y in test_loader:\n",
        "#   x, y\n",
        "#   break\n",
        "# x.shape, y.shape"
      ],
      "metadata": {
        "id": "R3WSNf8R4fAH"
      },
      "execution_count": 92,
      "outputs": []
    },
    {
      "cell_type": "markdown",
      "source": [
        "Найдем accuracy на тестовой"
      ],
      "metadata": {
        "id": "QOTjAbIkP57R"
      }
    },
    {
      "cell_type": "code",
      "source": [
        "# test_acc = 0\n",
        "# batches = 0\n",
        "\n",
        "# model.eval()\n",
        "# with torch.no_grad():\n",
        "#     for xtest, ytest in test_loader:\n",
        "#         batches+=1\n",
        "#         xtest = xtest.to(device)\n",
        "#         test_prob = model(xtest)\n",
        "#         test_prob = test_prob.cpu()\n",
        "\n",
        "#         test_pred = torch.max(test_prob,1).indices\n",
        "#         print(int(torch.sum(test_pred == ytest)))\n",
        "#         test_acc += int(torch.sum(test_pred == ytest))\n",
        "\n",
        "#     ep_test_acc = test_acc / LEN_TEST\n",
        "\n",
        "# batches_list = [i for i in range(1, batches+1)]\n",
        "\n",
        "# print(f\"Test_acc: {ep_test_acc}\")"
      ],
      "metadata": {
        "id": "9KwW_Fl8wU5g"
      },
      "execution_count": 93,
      "outputs": []
    },
    {
      "cell_type": "code",
      "source": [
        "def pil_loader(path):\n",
        "    # open path as file to avoid ResourceWarning (https://github.com/python-pillow/Pillow/issues/835)\n",
        "    with open(path, 'rb') as f:\n",
        "        img = Image.open(f)\n",
        "        return img.convert('RGB')"
      ],
      "metadata": {
        "id": "TSFyz-Nc7Kf9"
      },
      "execution_count": 94,
      "outputs": []
    },
    {
      "cell_type": "code",
      "source": [
        "from PIL import Image\n",
        "\n",
        "img = pil_loader('/content/drive/MyDrive/Colab Notebooks/MEPHI/ResNet/output/val/one/179Block_5.jpg')\n",
        "display(img.resize((224, 224)))\n",
        "# img_array = np.array(img)\n",
        "img_tensor = tfm(img)"
      ],
      "metadata": {
        "colab": {
          "base_uri": "https://localhost:8080/",
          "height": 241
        },
        "id": "7PrpkM8f5EtN",
        "outputId": "f997f15e-fcda-4bd2-c789-fe7fcd097b76"
      },
      "execution_count": 96,
      "outputs": [
        {
          "output_type": "display_data",
          "data": {
            "text/plain": [
              "<PIL.Image.Image image mode=RGB size=224x224>"
            ],
            "image/png": "[encoded data removed]"
          },
          "metadata": {}
        }
      ]
    },
    {
      "cell_type": "markdown",
      "source": [
        "Проверим с обычными избражениями"
      ],
      "metadata": {
        "id": "ryDIXr1bynNX"
      }
    },
    {
      "cell_type": "code",
      "source": [
        "sample_1 = '/content/drive/MyDrive/Colab Notebooks/MEPHI/ResNet/output/val/one/179Block_5.jpg'\n",
        "sample_2 = '/content/drive/MyDrive/Colab Notebooks/MEPHI/ResNet/output/val/one/186Block_115.jpg'\n",
        "sample_3 = '/content/drive/MyDrive/Colab Notebooks/MEPHI/ResNet/output/val/zero/193Block_65.jpg'\n",
        "sample_4 = '/content/drive/MyDrive/Colab Notebooks/MEPHI/ResNet/output/val/zero/199Block_30.jpg'\n",
        "\n",
        "sample_list = [sample_1,sample_2,sample_3,sample_4]"
      ],
      "metadata": {
        "id": "HBIEkIEhyW7r"
      },
      "execution_count": 97,
      "outputs": []
    },
    {
      "cell_type": "code",
      "source": [
        "# test_loader.batch_size"
      ],
      "metadata": {
        "id": "aQ9cV-G92mmE"
      },
      "execution_count": 98,
      "outputs": []
    },
    {
      "cell_type": "code",
      "source": [
        "from PIL import Image\n",
        "import numpy as np\n",
        "\n",
        "for image_path in sample_list:\n",
        "    img = pil_loader(image_path)\n",
        "    display(img.resize((224,224)))\n",
        "    img_tensor = tfm(img)\n",
        "    img_tensor = img_tensor[np.newaxis, :]\n",
        "    img_tensor = img_tensor.to(device)\n",
        "    pred_prob = model(img_tensor)\n",
        "    pred = torch.max(pred_prob,1).indices\n",
        "    pred = pred.item()\n",
        "    if pred == 1:\n",
        "        print(f\"Model prediction {pred}, 1\")\n",
        "    else:\n",
        "        print(f\"Model prediction {pred}, 0\")\n",
        "\n",
        "    print(\"========================================================\")"
      ],
      "metadata": {
        "colab": {
          "base_uri": "https://localhost:8080/",
          "height": 1000
        },
        "id": "cIfBZTQAzUSN",
        "outputId": "766b1248-311b-4858-b39e-a63a248a8195"
      },
      "execution_count": 99,
      "outputs": [
        {
          "output_type": "display_data",
          "data": {
            "text/plain": [
              "<PIL.Image.Image image mode=RGB size=224x224>"
            ],
            "image/png": "[encoded data removed]"
          },
          "metadata": {}
        },
        {
          "output_type": "stream",
          "name": "stdout",
          "text": [
            "Model prediction 0, 0\n",
            "========================================================\n"
          ]
        },
        {
          "output_type": "display_data",
          "data": {
            "text/plain": [
              "<PIL.Image.Image image mode=RGB size=224x224>"
            ],
            "image/png": "[encoded data removed]"
          },
          "metadata": {}
        },
        {
          "output_type": "stream",
          "name": "stdout",
          "text": [
            "Model prediction 0, 0\n",
            "========================================================\n"
          ]
        },
        {
          "output_type": "display_data",
          "data": {
            "text/plain": [
              "<PIL.Image.Image image mode=RGB size=224x224>"
            ],
            "image/png": "[encoded data removed]"
          },
          "metadata": {}
        },
        {
          "output_type": "stream",
          "name": "stdout",
          "text": [
            "Model prediction 1, 1\n",
            "========================================================\n"
          ]
        },
        {
          "output_type": "display_data",
          "data": {
            "text/plain": [
              "<PIL.Image.Image image mode=RGB size=224x224>"
            ],
            "image/png": "[encoded data removed]"
          },
          "metadata": {}
        },
        {
          "output_type": "stream",
          "name": "stdout",
          "text": [
            "Model prediction 1, 1\n",
            "========================================================\n"
          ]
        }
      ]
    },
    {
      "cell_type": "markdown",
      "source": [
        "#ГРАФИКИ"
      ],
      "metadata": {
        "id": "rI8nmXnv80Wf"
      }
    },
    {
      "cell_type": "code",
      "source": [
        "train_losses[0].detach().numpy().astype(float).item()"
      ],
      "metadata": {
        "colab": {
          "base_uri": "https://localhost:8080/"
        },
        "id": "sClMUZxbFZ6G",
        "outputId": "9c87e04b-dd98-4bae-cdcd-5ada940002d9"
      },
      "execution_count": 100,
      "outputs": [
        {
          "output_type": "execute_result",
          "data": {
            "text/plain": [
              "0.13100288808345795"
            ]
          },
          "metadata": {},
          "execution_count": 100
        }
      ]
    },
    {
      "cell_type": "code",
      "source": [
        "validation_accuracy"
      ],
      "metadata": {
        "colab": {
          "base_uri": "https://localhost:8080/"
        },
        "id": "DN4BcvPGFtT_",
        "outputId": "c7d6c12e-c5a8-4bd4-98bc-1ed8ea9d27ae"
      },
      "execution_count": 101,
      "outputs": [
        {
          "output_type": "execute_result",
          "data": {
            "text/plain": [
              "[0.7063492063492064,\n",
              " 1.0,\n",
              " 0.9920634920634921,\n",
              " 0.9841269841269841,\n",
              " 1.0,\n",
              " 0.9920634920634921,\n",
              " 0.8888888888888888,\n",
              " 0.9682539682539683,\n",
              " 0.9920634920634921,\n",
              " 0.9841269841269841,\n",
              " 1.0,\n",
              " 1.0,\n",
              " 0.9761904761904762,\n",
              " 0.9920634920634921,\n",
              " 0.9920634920634921]"
            ]
          },
          "metadata": {},
          "execution_count": 101
        }
      ]
    },
    {
      "cell_type": "code",
      "source": [
        "ls = []\n",
        "for i in train_losses:\n",
        "  ls.append(i.detach().numpy().astype(float).item())\n",
        "train_losses = ls\n",
        "\n",
        "ls = []\n",
        "for i in validation_losses:\n",
        "  ls.append(i.detach().numpy().astype(float).item())\n",
        "validation_losses = ls"
      ],
      "metadata": {
        "id": "QfbdMcZ5G3Q0"
      },
      "execution_count": 102,
      "outputs": []
    },
    {
      "cell_type": "markdown",
      "source": [
        "Графики ЛОССов на тренировочной и валидационной выборках"
      ],
      "metadata": {
        "id": "D5WHIsGa5_Pn"
      }
    },
    {
      "cell_type": "code",
      "source": [
        "x_data3 = epoch_list\n",
        "y_data3 = validation_losses\n",
        "\n",
        "x_data4 = epoch_list\n",
        "y_data4 = train_losses\n",
        "\n",
        "# y_data2 = train_losses\n",
        "\n",
        "fig = plt.figure()\n",
        "ax3 = fig.add_subplot(2, 2, 1)\n",
        "ax3.plot(x_data3, y_data3, label='val loss')\n",
        "ax3.set_xlabel('Epoch')\n",
        "ax3.set_ylabel('valid loss')\n",
        "ax3.set_title('Validation loss')\n",
        "ax3.legend()\n",
        "\n",
        "ax4 = fig.add_subplot(2, 2, 2)\n",
        "ax4.plot(x_data4, y_data4, label='tr loss')\n",
        "ax4.set_xlabel('Epoch')\n",
        "ax4.set_ylabel('train loss')\n",
        "ax4.set_title('Train loss')\n",
        "ax4.legend()\n",
        "\n",
        "plt.show()"
      ],
      "metadata": {
        "colab": {
          "base_uri": "https://localhost:8080/",
          "height": 270
        },
        "id": "-9Kmo3mE6S86",
        "outputId": "a813a4ee-ebc2-472d-ee61-68cab2799318"
      },
      "execution_count": 103,
      "outputs": [
        {
          "output_type": "display_data",
          "data": {
            "text/plain": [
              "<Figure size 640x480 with 2 Axes>"
            ],
            "image/png": "[encoded data removed]"
          },
          "metadata": {}
        }
      ]
    },
    {
      "cell_type": "markdown",
      "source": [
        "Графики ACURACY на тренировочной и валидационной выборках"
      ],
      "metadata": {
        "id": "og4dXazs5_I8"
      }
    },
    {
      "cell_type": "code",
      "source": [
        "from matplotlib import pyplot as plt\n",
        "\n",
        "\n",
        "x_data1 = epoch_list\n",
        "y_data1 = validation_accuracy\n",
        "\n",
        "x_data2 = epoch_list\n",
        "y_data2 = train_accuracy\n",
        "\n",
        "# y_data2 = train_losses\n",
        "\n",
        "fig = plt.figure()\n",
        "ax1 = fig.add_subplot(2, 2, 1)\n",
        "ax1.plot(x_data1, y_data1, label='val acc')\n",
        "ax1.set_xlabel('Epoch')\n",
        "ax1.set_ylabel('valid acc')\n",
        "ax1.set_title('Plot of accuracy')\n",
        "ax1.legend()\n",
        "\n",
        "ax2 = fig.add_subplot(2, 2, 2)\n",
        "ax2.plot(x_data2, y_data2, label='tr acc')\n",
        "ax2.set_xlabel('Epoch')\n",
        "ax2.set_ylabel('valid')\n",
        "ax2.set_title('Plot of train loss')\n",
        "ax2.legend()\n",
        "\n",
        "plt.show()"
      ],
      "metadata": {
        "colab": {
          "base_uri": "https://localhost:8080/",
          "height": 270
        },
        "id": "1JUVHsj8zcgi",
        "outputId": "f688f7d0-2ed2-4a47-f78c-b899c159398e"
      },
      "execution_count": 104,
      "outputs": [
        {
          "output_type": "display_data",
          "data": {
            "text/plain": [
              "<Figure size 640x480 with 2 Axes>"
            ],
            "image/png": "[encoded data removed]"
          },
          "metadata": {}
        }
      ]
    },
    {
      "cell_type": "markdown",
      "source": [
        "В Последнем батче большая ошибка, потому что батч неполный"
      ],
      "metadata": {
        "id": "5QBI8Vi9N1Fi"
      }
    },
    {
      "cell_type": "code",
      "source": [
        "torch.save(model.state_dict(), '/content/drive/My Drive/Colab Notebooks/MEPHI/ResNet/model.pth')"
      ],
      "metadata": {
        "id": "HKA8o6IqNiVh"
      },
      "execution_count": 105,
      "outputs": []
    },
    {
      "cell_type": "code",
      "source": [],
      "metadata": {
        "id": "X6x_AdRjBNqY"
      },
      "execution_count": null,
      "outputs": []
    }
  ]
}