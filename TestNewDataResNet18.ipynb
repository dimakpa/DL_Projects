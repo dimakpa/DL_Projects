{
  "nbformat": 4,
  "nbformat_minor": 0,
  "metadata": {
    "colab": {
      "provenance": [],
      "authorship_tag": "ABX9TyOByuceZnLNDkvBIvHhBDwY",
      "include_colab_link": true
    },
    "kernelspec": {
      "name": "python3",
      "display_name": "Python 3"
    },
    "language_info": {
      "name": "python"
    }
  },
  "cells": [
    {
      "cell_type": "markdown",
      "metadata": {
        "id": "view-in-github",
        "colab_type": "text"
      },
      "source": [
        "<a href=\"https://colab.research.google.com/github/dimakpa/DL_Projects/blob/main/TestNewDataResNet18.ipynb\" target=\"_parent\"><img src=\"https://colab.research.google.com/assets/colab-badge.svg\" alt=\"Open In Colab\"/></a>"
      ]
    },
    {
      "cell_type": "markdown",
      "source": [
        "Все библиотеки для удобства"
      ],
      "metadata": {
        "id": "Z1dQBfhLnEZr"
      }
    },
    {
      "cell_type": "code",
      "execution_count": 32,
      "metadata": {
        "id": "05Bt-Xcy8KIi"
      },
      "outputs": [],
      "source": [
        "import numpy as np\n",
        "import pandas as pd\n",
        "import torch\n",
        "import torch.nn as nn\n",
        "from sklearn.model_selection import train_test_split\n",
        "from sklearn.metrics import classification_report\n",
        "from pathlib import Path\n",
        "import os\n",
        "from time import time\n",
        "from tqdm import tqdm\n",
        "import numpy\n",
        "\n",
        "import torch\n",
        "from torch.nn import Linear, CrossEntropyLoss\n",
        "from torch.optim import Adam\n",
        "from torch.utils.data import DataLoader\n",
        "\n",
        "import torchvision\n",
        "from torchvision.datasets import ImageFolder\n",
        "from torchvision.models import resnet18\n",
        "from torchvision.transforms import transforms\n",
        "\n",
        "# specify GPU\n",
        "# Device\n",
        "device = torch.device(\"cuda\" if torch.cuda.is_available() else \"cpu\")"
      ]
    },
    {
      "cell_type": "markdown",
      "source": [
        "Трансформер"
      ],
      "metadata": {
        "id": "MCJ0WTU0nJ8H"
      }
    },
    {
      "cell_type": "code",
      "source": [
        "tfm = transforms.Compose([\n",
        "    transforms.Resize((224, 224)),\n",
        "    # transforms.RandomHorizontalFlip(),\n",
        "    # transforms.RandomRotation(degrees=10),\n",
        "    transforms.ToTensor(),\n",
        "    transforms.Normalize([0.485, 0.456, 0.406], [0.229, 0.224, 0.225])\n",
        "])"
      ],
      "metadata": {
        "id": "VAFs2zU6gul4"
      },
      "execution_count": 33,
      "outputs": []
    },
    {
      "cell_type": "code",
      "source": [
        "from google.colab import drive\n",
        "drive.mount('/content/drive')"
      ],
      "metadata": {
        "colab": {
          "base_uri": "https://localhost:8080/"
        },
        "id": "p33d7y0h8RAU",
        "outputId": "f2e5501f-cfee-485b-d265-2e0f5982ca43"
      },
      "execution_count": 34,
      "outputs": [
        {
          "output_type": "stream",
          "name": "stdout",
          "text": [
            "Drive already mounted at /content/drive; to attempt to forcibly remount, call drive.mount(\"/content/drive\", force_remount=True).\n"
          ]
        }
      ]
    },
    {
      "cell_type": "markdown",
      "source": [
        "##Создадим DF для результатов"
      ],
      "metadata": {
        "id": "XyZDEjWjJJka"
      }
    },
    {
      "cell_type": "markdown",
      "source": [
        "Спарсим числа всез файлов"
      ],
      "metadata": {
        "id": "Mj67Dtt4J1y8"
      }
    },
    {
      "cell_type": "code",
      "source": [
        "data = []\n",
        "import os\n",
        "\n",
        "directory = '/content/drive/MyDrive/Colab Notebooks/MEPHI/ResNet/new_data/'\n",
        "for filename in os.listdir(directory):\n",
        "    f = os.path.join(directory, filename)\n",
        "    if os.path.isfile(f):\n",
        "      data.append(filename[:-4])\n",
        "data"
      ],
      "metadata": {
        "colab": {
          "base_uri": "https://localhost:8080/"
        },
        "id": "NRL1_ytnJ803",
        "outputId": "65ea2b8a-a878-4cc4-8387-13b630691e87"
      },
      "execution_count": 35,
      "outputs": [
        {
          "output_type": "execute_result",
          "data": {
            "text/plain": [
              "['101_cross',\n",
              " '103_long',\n",
              " '101_long',\n",
              " '114_long',\n",
              " '37_long',\n",
              " '140_long',\n",
              " '143_long',\n",
              " '67_cross',\n",
              " '61_cross',\n",
              " '72_long',\n",
              " '71_cross',\n",
              " '73_cross',\n",
              " '77_cross',\n",
              " '80_cross',\n",
              " '87_cross',\n",
              " '88_cross',\n",
              " '80_long',\n",
              " '94_cross',\n",
              " '90_long',\n",
              " '94_long']"
            ]
          },
          "metadata": {},
          "execution_count": 35
        }
      ]
    },
    {
      "cell_type": "markdown",
      "source": [
        "Создадим ДФ"
      ],
      "metadata": {
        "id": "F5KnhGL_nO0z"
      }
    },
    {
      "cell_type": "code",
      "source": [
        "df = pd.DataFrame(data=data, columns = ['id'])\n",
        "df['pred'] = 0\n",
        "df.head()\n"
      ],
      "metadata": {
        "colab": {
          "base_uri": "https://localhost:8080/",
          "height": 206
        },
        "id": "SKJMzfYuJNVK",
        "outputId": "a4a438a9-0ddf-4665-87ef-5b39092b2f30"
      },
      "execution_count": 36,
      "outputs": [
        {
          "output_type": "execute_result",
          "data": {
            "text/plain": [
              "          id  pred\n",
              "0  101_cross     0\n",
              "1   103_long     0\n",
              "2   101_long     0\n",
              "3   114_long     0\n",
              "4    37_long     0"
            ],
            "text/html": [
              "\n",
              "  <div id=\"df-928ff856-87a5-4728-aa81-f863e24bc917\" class=\"colab-df-container\">\n",
              "    <div>\n",
              "<style scoped>\n",
              "    .dataframe tbody tr th:only-of-type {\n",
              "        vertical-align: middle;\n",
              "    }\n",
              "\n",
              "    .dataframe tbody tr th {\n",
              "        vertical-align: top;\n",
              "    }\n",
              "\n",
              "    .dataframe thead th {\n",
              "        text-align: right;\n",
              "    }\n",
              "</style>\n",
              "<table border=\"1\" class=\"dataframe\">\n",
              "  <thead>\n",
              "    <tr style=\"text-align: right;\">\n",
              "      <th></th>\n",
              "      <th>id</th>\n",
              "      <th>pred</th>\n",
              "    </tr>\n",
              "  </thead>\n",
              "  <tbody>\n",
              "    <tr>\n",
              "      <th>0</th>\n",
              "      <td>101_cross</td>\n",
              "      <td>0</td>\n",
              "    </tr>\n",
              "    <tr>\n",
              "      <th>1</th>\n",
              "      <td>103_long</td>\n",
              "      <td>0</td>\n",
              "    </tr>\n",
              "    <tr>\n",
              "      <th>2</th>\n",
              "      <td>101_long</td>\n",
              "      <td>0</td>\n",
              "    </tr>\n",
              "    <tr>\n",
              "      <th>3</th>\n",
              "      <td>114_long</td>\n",
              "      <td>0</td>\n",
              "    </tr>\n",
              "    <tr>\n",
              "      <th>4</th>\n",
              "      <td>37_long</td>\n",
              "      <td>0</td>\n",
              "    </tr>\n",
              "  </tbody>\n",
              "</table>\n",
              "</div>\n",
              "    <div class=\"colab-df-buttons\">\n",
              "\n",
              "  <div class=\"colab-df-container\">\n",
              "    <button class=\"colab-df-convert\" onclick=\"convertToInteractive('df-928ff856-87a5-4728-aa81-f863e24bc917')\"\n",
              "            title=\"Convert this dataframe to an interactive table.\"\n",
              "            style=\"display:none;\">\n",
              "\n",
              "  <svg xmlns=\"http://www.w3.org/2000/svg\" height=\"24px\" viewBox=\"0 -960 960 960\">\n",
              "    <path d=\"M120-120v-720h720v720H120Zm60-500h600v-160H180v160Zm220 220h160v-160H400v160Zm0 220h160v-160H400v160ZM180-400h160v-160H180v160Zm440 0h160v-160H620v160ZM180-180h160v-160H180v160Zm440 0h160v-160H620v160Z\"/>\n",
              "  </svg>\n",
              "    </button>\n",
              "\n",
              "  <style>\n",
              "    .colab-df-container {\n",
              "      display:flex;\n",
              "      gap: 12px;\n",
              "    }\n",
              "\n",
              "    .colab-df-convert {\n",
              "      background-color: #E8F0FE;\n",
              "      border: none;\n",
              "      border-radius: 50%;\n",
              "      cursor: pointer;\n",
              "      display: none;\n",
              "      fill: #1967D2;\n",
              "      height: 32px;\n",
              "      padding: 0 0 0 0;\n",
              "      width: 32px;\n",
              "    }\n",
              "\n",
              "    .colab-df-convert:hover {\n",
              "      background-color: #E2EBFA;\n",
              "      box-shadow: 0px 1px 2px rgba(60, 64, 67, 0.3), 0px 1px 3px 1px rgba(60, 64, 67, 0.15);\n",
              "      fill: #174EA6;\n",
              "    }\n",
              "\n",
              "    .colab-df-buttons div {\n",
              "      margin-bottom: 4px;\n",
              "    }\n",
              "\n",
              "    [theme=dark] .colab-df-convert {\n",
              "      background-color: #3B4455;\n",
              "      fill: #D2E3FC;\n",
              "    }\n",
              "\n",
              "    [theme=dark] .colab-df-convert:hover {\n",
              "      background-color: #434B5C;\n",
              "      box-shadow: 0px 1px 3px 1px rgba(0, 0, 0, 0.15);\n",
              "      filter: drop-shadow(0px 1px 2px rgba(0, 0, 0, 0.3));\n",
              "      fill: #FFFFFF;\n",
              "    }\n",
              "  </style>\n",
              "\n",
              "    <script>\n",
              "      const buttonEl =\n",
              "        document.querySelector('#df-928ff856-87a5-4728-aa81-f863e24bc917 button.colab-df-convert');\n",
              "      buttonEl.style.display =\n",
              "        google.colab.kernel.accessAllowed ? 'block' : 'none';\n",
              "\n",
              "      async function convertToInteractive(key) {\n",
              "        const element = document.querySelector('#df-928ff856-87a5-4728-aa81-f863e24bc917');\n",
              "        const dataTable =\n",
              "          await google.colab.kernel.invokeFunction('convertToInteractive',\n",
              "                                                    [key], {});\n",
              "        if (!dataTable) return;\n",
              "\n",
              "        const docLinkHtml = 'Like what you see? Visit the ' +\n",
              "          '<a target=\"_blank\" href=https://colab.research.google.com/notebooks/data_table.ipynb>data table notebook</a>'\n",
              "          + ' to learn more about interactive tables.';\n",
              "        element.innerHTML = '';\n",
              "        dataTable['output_type'] = 'display_data';\n",
              "        await google.colab.output.renderOutput(dataTable, element);\n",
              "        const docLink = document.createElement('div');\n",
              "        docLink.innerHTML = docLinkHtml;\n",
              "        element.appendChild(docLink);\n",
              "      }\n",
              "    </script>\n",
              "  </div>\n",
              "\n",
              "\n",
              "<div id=\"df-32ed0f21-9e63-4be5-8e59-cc8479bc89fd\">\n",
              "  <button class=\"colab-df-quickchart\" onclick=\"quickchart('df-32ed0f21-9e63-4be5-8e59-cc8479bc89fd')\"\n",
              "            title=\"Suggest charts.\"\n",
              "            style=\"display:none;\">\n",
              "\n",
              "<svg xmlns=\"http://www.w3.org/2000/svg\" height=\"24px\"viewBox=\"0 0 24 24\"\n",
              "     width=\"24px\">\n",
              "    <g>\n",
              "        <path d=\"M19 3H5c-1.1 0-2 .9-2 2v14c0 1.1.9 2 2 2h14c1.1 0 2-.9 2-2V5c0-1.1-.9-2-2-2zM9 17H7v-7h2v7zm4 0h-2V7h2v10zm4 0h-2v-4h2v4z\"/>\n",
              "    </g>\n",
              "</svg>\n",
              "  </button>\n",
              "\n",
              "<style>\n",
              "  .colab-df-quickchart {\n",
              "      --bg-color: #E8F0FE;\n",
              "      --fill-color: #1967D2;\n",
              "      --hover-bg-color: #E2EBFA;\n",
              "      --hover-fill-color: #174EA6;\n",
              "      --disabled-fill-color: #AAA;\n",
              "      --disabled-bg-color: #DDD;\n",
              "  }\n",
              "\n",
              "  [theme=dark] .colab-df-quickchart {\n",
              "      --bg-color: #3B4455;\n",
              "      --fill-color: #D2E3FC;\n",
              "      --hover-bg-color: #434B5C;\n",
              "      --hover-fill-color: #FFFFFF;\n",
              "      --disabled-bg-color: #3B4455;\n",
              "      --disabled-fill-color: #666;\n",
              "  }\n",
              "\n",
              "  .colab-df-quickchart {\n",
              "    background-color: var(--bg-color);\n",
              "    border: none;\n",
              "    border-radius: 50%;\n",
              "    cursor: pointer;\n",
              "    display: none;\n",
              "    fill: var(--fill-color);\n",
              "    height: 32px;\n",
              "    padding: 0;\n",
              "    width: 32px;\n",
              "  }\n",
              "\n",
              "  .colab-df-quickchart:hover {\n",
              "    background-color: var(--hover-bg-color);\n",
              "    box-shadow: 0 1px 2px rgba(60, 64, 67, 0.3), 0 1px 3px 1px rgba(60, 64, 67, 0.15);\n",
              "    fill: var(--button-hover-fill-color);\n",
              "  }\n",
              "\n",
              "  .colab-df-quickchart-complete:disabled,\n",
              "  .colab-df-quickchart-complete:disabled:hover {\n",
              "    background-color: var(--disabled-bg-color);\n",
              "    fill: var(--disabled-fill-color);\n",
              "    box-shadow: none;\n",
              "  }\n",
              "\n",
              "  .colab-df-spinner {\n",
              "    border: 2px solid var(--fill-color);\n",
              "    border-color: transparent;\n",
              "    border-bottom-color: var(--fill-color);\n",
              "    animation:\n",
              "      spin 1s steps(1) infinite;\n",
              "  }\n",
              "\n",
              "  @keyframes spin {\n",
              "    0% {\n",
              "      border-color: transparent;\n",
              "      border-bottom-color: var(--fill-color);\n",
              "      border-left-color: var(--fill-color);\n",
              "    }\n",
              "    20% {\n",
              "      border-color: transparent;\n",
              "      border-left-color: var(--fill-color);\n",
              "      border-top-color: var(--fill-color);\n",
              "    }\n",
              "    30% {\n",
              "      border-color: transparent;\n",
              "      border-left-color: var(--fill-color);\n",
              "      border-top-color: var(--fill-color);\n",
              "      border-right-color: var(--fill-color);\n",
              "    }\n",
              "    40% {\n",
              "      border-color: transparent;\n",
              "      border-right-color: var(--fill-color);\n",
              "      border-top-color: var(--fill-color);\n",
              "    }\n",
              "    60% {\n",
              "      border-color: transparent;\n",
              "      border-right-color: var(--fill-color);\n",
              "    }\n",
              "    80% {\n",
              "      border-color: transparent;\n",
              "      border-right-color: var(--fill-color);\n",
              "      border-bottom-color: var(--fill-color);\n",
              "    }\n",
              "    90% {\n",
              "      border-color: transparent;\n",
              "      border-bottom-color: var(--fill-color);\n",
              "    }\n",
              "  }\n",
              "</style>\n",
              "\n",
              "  <script>\n",
              "    async function quickchart(key) {\n",
              "      const quickchartButtonEl =\n",
              "        document.querySelector('#' + key + ' button');\n",
              "      quickchartButtonEl.disabled = true;  // To prevent multiple clicks.\n",
              "      quickchartButtonEl.classList.add('colab-df-spinner');\n",
              "      try {\n",
              "        const charts = await google.colab.kernel.invokeFunction(\n",
              "            'suggestCharts', [key], {});\n",
              "      } catch (error) {\n",
              "        console.error('Error during call to suggestCharts:', error);\n",
              "      }\n",
              "      quickchartButtonEl.classList.remove('colab-df-spinner');\n",
              "      quickchartButtonEl.classList.add('colab-df-quickchart-complete');\n",
              "    }\n",
              "    (() => {\n",
              "      let quickchartButtonEl =\n",
              "        document.querySelector('#df-32ed0f21-9e63-4be5-8e59-cc8479bc89fd button');\n",
              "      quickchartButtonEl.style.display =\n",
              "        google.colab.kernel.accessAllowed ? 'block' : 'none';\n",
              "    })();\n",
              "  </script>\n",
              "</div>\n",
              "    </div>\n",
              "  </div>\n"
            ]
          },
          "metadata": {},
          "execution_count": 36
        }
      ]
    },
    {
      "cell_type": "markdown",
      "source": [
        "Спарсим new_data каждое 5 изображение tif"
      ],
      "metadata": {
        "id": "s5DqkU-v82YL"
      }
    },
    {
      "cell_type": "code",
      "source": [
        "from PIL import Image\n",
        "im = Image.open('/content/drive/MyDrive/Colab Notebooks/MEPHI/ResNet/new_data/37_long.tif')\n",
        "im.show()"
      ],
      "metadata": {
        "id": "oJQ0kOZY8TkB"
      },
      "execution_count": 37,
      "outputs": []
    },
    {
      "cell_type": "code",
      "source": [
        "def parse_tif(filePath, fileSave, numOfBlock):\n",
        "    if Path(filePath).is_file():\n",
        "      img = Image.open(filePath)\n",
        "      numFramesPerTif = img.n_frames\n",
        "      for i in range (numFramesPerTif):\n",
        "          if i%5 == 0:\n",
        "              try:\n",
        "                  img.seek(i)\n",
        "                  img.save(fileSave + numOfBlock +'_%s.jpg'%(i,))\n",
        "              except EOFError: #end of file error\n",
        "                  print('End of file error')\n"
      ],
      "metadata": {
        "id": "0hWPxjtg9ExB"
      },
      "execution_count": 38,
      "outputs": []
    },
    {
      "cell_type": "code",
      "source": [
        "import os\n",
        "save_path = '/content/drive/MyDrive/Colab Notebooks/MEPHI/ResNet/new_data_test/'\n",
        "\n",
        "directory = '/content/drive/MyDrive/Colab Notebooks/MEPHI/ResNet/new_data/'\n",
        "for filename in os.listdir(directory):\n",
        "    f = os.path.join(directory, filename)\n",
        "    if os.path.isfile(f):\n",
        "        parse_tif(f, save_path, filename[:-4])"
      ],
      "metadata": {
        "id": "4OkyA-C69cEp"
      },
      "execution_count": 39,
      "outputs": []
    },
    {
      "cell_type": "markdown",
      "source": [
        "Теперь имеем распарщеные изображения\n",
        "![image.png](data:image/png;base64,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)"
      ],
      "metadata": {
        "id": "Ttn0inaHcyn2"
      }
    },
    {
      "cell_type": "markdown",
      "source": [
        "для каждого id найдем его фото, получим результат (1 или 0) и посмотрим среднее арифметическое. Напишем функции для этого\n"
      ],
      "metadata": {
        "id": "xyAXTqvOdzQR"
      }
    },
    {
      "cell_type": "markdown",
      "source": [
        "Предикт для листа"
      ],
      "metadata": {
        "id": "Ij_rdPw6nfoH"
      }
    },
    {
      "cell_type": "code",
      "source": [
        "def get_pred(list_of_preds):\n",
        "  k=0\n",
        "  for i in list_of_preds:\n",
        "    k+=i\n",
        "  return k/len(list_of_preds)"
      ],
      "metadata": {
        "id": "_AClrBfEHUG6"
      },
      "execution_count": 40,
      "outputs": []
    },
    {
      "cell_type": "markdown",
      "source": [
        "Проерка работы функции"
      ],
      "metadata": {
        "id": "Z2rr1HuDniyx"
      }
    },
    {
      "cell_type": "code",
      "source": [
        "lst = [0, 1, 1, 1, 0, 0, 1, 0, 1]\n",
        "get_pred(lst)"
      ],
      "metadata": {
        "colab": {
          "base_uri": "https://localhost:8080/"
        },
        "id": "tiAqsWkIepBa",
        "outputId": "e2608ead-2f47-4d28-936f-c38acaad1b6f"
      },
      "execution_count": 41,
      "outputs": [
        {
          "output_type": "execute_result",
          "data": {
            "text/plain": [
              "0.5555555555555556"
            ]
          },
          "metadata": {},
          "execution_count": 41
        }
      ]
    },
    {
      "cell_type": "markdown",
      "source": [
        "Загрузим нашу модельку"
      ],
      "metadata": {
        "id": "pYp4Fx7WBYPc"
      }
    },
    {
      "cell_type": "code",
      "source": [
        "from torchvision.models import resnet18\n",
        "from torch.nn import Linear, CrossEntropyLoss\n",
        "\n",
        "model = resnet18(pretrained=True)\n",
        "model.fc = Linear(in_features=512, out_features=2)\n",
        "model.load_state_dict(torch.load('/content/drive/My Drive/Colab Notebooks/MEPHI/ResNet/model.pth'))\n",
        "model.eval()"
      ],
      "metadata": {
        "colab": {
          "base_uri": "https://localhost:8080/"
        },
        "id": "RwmNADtHBYEN",
        "outputId": "24465e34-492a-46f7-c51b-3808ab5db67a"
      },
      "execution_count": 42,
      "outputs": [
        {
          "output_type": "stream",
          "name": "stderr",
          "text": [
            "/usr/local/lib/python3.10/dist-packages/torchvision/models/_utils.py:208: UserWarning: The parameter 'pretrained' is deprecated since 0.13 and may be removed in the future, please use 'weights' instead.\n",
            "  warnings.warn(\n",
            "/usr/local/lib/python3.10/dist-packages/torchvision/models/_utils.py:223: UserWarning: Arguments other than a weight enum or `None` for 'weights' are deprecated since 0.13 and may be removed in the future. The current behavior is equivalent to passing `weights=ResNet18_Weights.IMAGENET1K_V1`. You can also use `weights=ResNet18_Weights.DEFAULT` to get the most up-to-date weights.\n",
            "  warnings.warn(msg)\n"
          ]
        },
        {
          "output_type": "execute_result",
          "data": {
            "text/plain": [
              "ResNet(\n",
              "  (conv1): Conv2d(3, 64, kernel_size=(7, 7), stride=(2, 2), padding=(3, 3), bias=False)\n",
              "  (bn1): BatchNorm2d(64, eps=1e-05, momentum=0.1, affine=True, track_running_stats=True)\n",
              "  (relu): ReLU(inplace=True)\n",
              "  (maxpool): MaxPool2d(kernel_size=3, stride=2, padding=1, dilation=1, ceil_mode=False)\n",
              "  (layer1): Sequential(\n",
              "    (0): BasicBlock(\n",
              "      (conv1): Conv2d(64, 64, kernel_size=(3, 3), stride=(1, 1), padding=(1, 1), bias=False)\n",
              "      (bn1): BatchNorm2d(64, eps=1e-05, momentum=0.1, affine=True, track_running_stats=True)\n",
              "      (relu): ReLU(inplace=True)\n",
              "      (conv2): Conv2d(64, 64, kernel_size=(3, 3), stride=(1, 1), padding=(1, 1), bias=False)\n",
              "      (bn2): BatchNorm2d(64, eps=1e-05, momentum=0.1, affine=True, track_running_stats=True)\n",
              "    )\n",
              "    (1): BasicBlock(\n",
              "      (conv1): Conv2d(64, 64, kernel_size=(3, 3), stride=(1, 1), padding=(1, 1), bias=False)\n",
              "      (bn1): BatchNorm2d(64, eps=1e-05, momentum=0.1, affine=True, track_running_stats=True)\n",
              "      (relu): ReLU(inplace=True)\n",
              "      (conv2): Conv2d(64, 64, kernel_size=(3, 3), stride=(1, 1), padding=(1, 1), bias=False)\n",
              "      (bn2): BatchNorm2d(64, eps=1e-05, momentum=0.1, affine=True, track_running_stats=True)\n",
              "    )\n",
              "  )\n",
              "  (layer2): Sequential(\n",
              "    (0): BasicBlock(\n",
              "      (conv1): Conv2d(64, 128, kernel_size=(3, 3), stride=(2, 2), padding=(1, 1), bias=False)\n",
              "      (bn1): BatchNorm2d(128, eps=1e-05, momentum=0.1, affine=True, track_running_stats=True)\n",
              "      (relu): ReLU(inplace=True)\n",
              "      (conv2): Conv2d(128, 128, kernel_size=(3, 3), stride=(1, 1), padding=(1, 1), bias=False)\n",
              "      (bn2): BatchNorm2d(128, eps=1e-05, momentum=0.1, affine=True, track_running_stats=True)\n",
              "      (downsample): Sequential(\n",
              "        (0): Conv2d(64, 128, kernel_size=(1, 1), stride=(2, 2), bias=False)\n",
              "        (1): BatchNorm2d(128, eps=1e-05, momentum=0.1, affine=True, track_running_stats=True)\n",
              "      )\n",
              "    )\n",
              "    (1): BasicBlock(\n",
              "      (conv1): Conv2d(128, 128, kernel_size=(3, 3), stride=(1, 1), padding=(1, 1), bias=False)\n",
              "      (bn1): BatchNorm2d(128, eps=1e-05, momentum=0.1, affine=True, track_running_stats=True)\n",
              "      (relu): ReLU(inplace=True)\n",
              "      (conv2): Conv2d(128, 128, kernel_size=(3, 3), stride=(1, 1), padding=(1, 1), bias=False)\n",
              "      (bn2): BatchNorm2d(128, eps=1e-05, momentum=0.1, affine=True, track_running_stats=True)\n",
              "    )\n",
              "  )\n",
              "  (layer3): Sequential(\n",
              "    (0): BasicBlock(\n",
              "      (conv1): Conv2d(128, 256, kernel_size=(3, 3), stride=(2, 2), padding=(1, 1), bias=False)\n",
              "      (bn1): BatchNorm2d(256, eps=1e-05, momentum=0.1, affine=True, track_running_stats=True)\n",
              "      (relu): ReLU(inplace=True)\n",
              "      (conv2): Conv2d(256, 256, kernel_size=(3, 3), stride=(1, 1), padding=(1, 1), bias=False)\n",
              "      (bn2): BatchNorm2d(256, eps=1e-05, momentum=0.1, affine=True, track_running_stats=True)\n",
              "      (downsample): Sequential(\n",
              "        (0): Conv2d(128, 256, kernel_size=(1, 1), stride=(2, 2), bias=False)\n",
              "        (1): BatchNorm2d(256, eps=1e-05, momentum=0.1, affine=True, track_running_stats=True)\n",
              "      )\n",
              "    )\n",
              "    (1): BasicBlock(\n",
              "      (conv1): Conv2d(256, 256, kernel_size=(3, 3), stride=(1, 1), padding=(1, 1), bias=False)\n",
              "      (bn1): BatchNorm2d(256, eps=1e-05, momentum=0.1, affine=True, track_running_stats=True)\n",
              "      (relu): ReLU(inplace=True)\n",
              "      (conv2): Conv2d(256, 256, kernel_size=(3, 3), stride=(1, 1), padding=(1, 1), bias=False)\n",
              "      (bn2): BatchNorm2d(256, eps=1e-05, momentum=0.1, affine=True, track_running_stats=True)\n",
              "    )\n",
              "  )\n",
              "  (layer4): Sequential(\n",
              "    (0): BasicBlock(\n",
              "      (conv1): Conv2d(256, 512, kernel_size=(3, 3), stride=(2, 2), padding=(1, 1), bias=False)\n",
              "      (bn1): BatchNorm2d(512, eps=1e-05, momentum=0.1, affine=True, track_running_stats=True)\n",
              "      (relu): ReLU(inplace=True)\n",
              "      (conv2): Conv2d(512, 512, kernel_size=(3, 3), stride=(1, 1), padding=(1, 1), bias=False)\n",
              "      (bn2): BatchNorm2d(512, eps=1e-05, momentum=0.1, affine=True, track_running_stats=True)\n",
              "      (downsample): Sequential(\n",
              "        (0): Conv2d(256, 512, kernel_size=(1, 1), stride=(2, 2), bias=False)\n",
              "        (1): BatchNorm2d(512, eps=1e-05, momentum=0.1, affine=True, track_running_stats=True)\n",
              "      )\n",
              "    )\n",
              "    (1): BasicBlock(\n",
              "      (conv1): Conv2d(512, 512, kernel_size=(3, 3), stride=(1, 1), padding=(1, 1), bias=False)\n",
              "      (bn1): BatchNorm2d(512, eps=1e-05, momentum=0.1, affine=True, track_running_stats=True)\n",
              "      (relu): ReLU(inplace=True)\n",
              "      (conv2): Conv2d(512, 512, kernel_size=(3, 3), stride=(1, 1), padding=(1, 1), bias=False)\n",
              "      (bn2): BatchNorm2d(512, eps=1e-05, momentum=0.1, affine=True, track_running_stats=True)\n",
              "    )\n",
              "  )\n",
              "  (avgpool): AdaptiveAvgPool2d(output_size=(1, 1))\n",
              "  (fc): Linear(in_features=512, out_features=2, bias=True)\n",
              ")"
            ]
          },
          "metadata": {},
          "execution_count": 42
        }
      ]
    },
    {
      "cell_type": "code",
      "source": [
        "def pil_loader(path):\n",
        "    # open path as file to avoid ResourceWarning (https://github.com/python-pillow/Pillow/issues/835)\n",
        "    with open(path, 'rb') as f:\n",
        "        img = Image.open(f)\n",
        "        return img.convert('RGB')"
      ],
      "metadata": {
        "id": "pM3RLEvSggti"
      },
      "execution_count": 43,
      "outputs": []
    },
    {
      "cell_type": "code",
      "source": [
        "sample_1 = '/content/drive/MyDrive/Colab Notebooks/MEPHI/ResNet/new_data_test/37_long_0.jpg'\n",
        "\n",
        "sample_list = [sample_1]"
      ],
      "metadata": {
        "id": "qKZW27rEgKt7"
      },
      "execution_count": 44,
      "outputs": []
    },
    {
      "cell_type": "markdown",
      "source": [
        "Создадим функцию, которая составляет список сэмплов для каждого id, ищет предикты, создает список предиктов и возращает predict\n"
      ],
      "metadata": {
        "id": "qedLxwZLhXva"
      }
    },
    {
      "cell_type": "markdown",
      "source": [
        "Функция возвращает ссылки по id"
      ],
      "metadata": {
        "id": "VYkbiCSIiRxT"
      }
    },
    {
      "cell_type": "code",
      "source": [
        "def get_samples(id_str):\n",
        "    samples = []\n",
        "    directory = '/content/drive/MyDrive/Colab Notebooks/MEPHI/ResNet/new_data_test/'\n",
        "    for filename in os.listdir(directory):\n",
        "        if(filename[:-6] == id_str or filename[:-7] == id_str): #Проверяем на сходство с id\n",
        "          f = os.path.join(directory, filename)\n",
        "          if os.path.isfile(f):\n",
        "            samples.append(f)\n",
        "    return samples"
      ],
      "metadata": {
        "id": "Dbgqqs-cg74Z"
      },
      "execution_count": 45,
      "outputs": []
    },
    {
      "cell_type": "markdown",
      "source": [
        "Как работает функция. Посмотрим ссылки по id"
      ],
      "metadata": {
        "id": "q1g4_0y4oVVb"
      }
    },
    {
      "cell_type": "code",
      "source": [
        "get_samples('37_long')"
      ],
      "metadata": {
        "colab": {
          "base_uri": "https://localhost:8080/"
        },
        "id": "hYUxgkHgiYUZ",
        "outputId": "092c9329-d3dc-479c-9222-3ad0c3199eb1"
      },
      "execution_count": 46,
      "outputs": [
        {
          "output_type": "execute_result",
          "data": {
            "text/plain": [
              "['/content/drive/MyDrive/Colab Notebooks/MEPHI/ResNet/new_data_test/37_long_0.jpg',\n",
              " '/content/drive/MyDrive/Colab Notebooks/MEPHI/ResNet/new_data_test/37_long_5.jpg',\n",
              " '/content/drive/MyDrive/Colab Notebooks/MEPHI/ResNet/new_data_test/37_long_10.jpg',\n",
              " '/content/drive/MyDrive/Colab Notebooks/MEPHI/ResNet/new_data_test/37_long_15.jpg',\n",
              " '/content/drive/MyDrive/Colab Notebooks/MEPHI/ResNet/new_data_test/37_long_20.jpg',\n",
              " '/content/drive/MyDrive/Colab Notebooks/MEPHI/ResNet/new_data_test/37_long_25.jpg',\n",
              " '/content/drive/MyDrive/Colab Notebooks/MEPHI/ResNet/new_data_test/37_long_30.jpg',\n",
              " '/content/drive/MyDrive/Colab Notebooks/MEPHI/ResNet/new_data_test/37_long_35.jpg',\n",
              " '/content/drive/MyDrive/Colab Notebooks/MEPHI/ResNet/new_data_test/37_long_40.jpg',\n",
              " '/content/drive/MyDrive/Colab Notebooks/MEPHI/ResNet/new_data_test/37_long_45.jpg',\n",
              " '/content/drive/MyDrive/Colab Notebooks/MEPHI/ResNet/new_data_test/37_long_50.jpg',\n",
              " '/content/drive/MyDrive/Colab Notebooks/MEPHI/ResNet/new_data_test/37_long_55.jpg',\n",
              " '/content/drive/MyDrive/Colab Notebooks/MEPHI/ResNet/new_data_test/37_long_60.jpg',\n",
              " '/content/drive/MyDrive/Colab Notebooks/MEPHI/ResNet/new_data_test/37_long_65.jpg',\n",
              " '/content/drive/MyDrive/Colab Notebooks/MEPHI/ResNet/new_data_test/37_long_70.jpg']"
            ]
          },
          "metadata": {},
          "execution_count": 46
        }
      ]
    },
    {
      "cell_type": "markdown",
      "source": [
        "функция возвращает лист предиктов по сэмплам\n"
      ],
      "metadata": {
        "id": "gM4xZcgrjO94"
      }
    },
    {
      "cell_type": "code",
      "source": [
        "from PIL import Image\n",
        "import numpy as np\n",
        "def get_pred_from_samples(sample_list):\n",
        "  preds = []\n",
        "  for image_path in sample_list:\n",
        "      img = pil_loader(image_path)\n",
        "      # display(img.resize((224,224)))\n",
        "      img_tensor = tfm(img)\n",
        "      img_tensor = img_tensor[np.newaxis, :]\n",
        "      img_tensor = img_tensor.to(device)\n",
        "      pred_prob = model(img_tensor)\n",
        "      pred = torch.max(pred_prob,1).indices\n",
        "      pred = pred.item()\n",
        "      preds.append(pred)\n",
        "  return preds\n"
      ],
      "metadata": {
        "id": "XNZmgCP0e0_Z"
      },
      "execution_count": 47,
      "outputs": []
    },
    {
      "cell_type": "markdown",
      "source": [
        "предикт каждой ссылки по id"
      ],
      "metadata": {
        "id": "FQEFoeHhpGfe"
      }
    },
    {
      "cell_type": "code",
      "source": [
        "get_pred_from_samples(get_samples('101_long'))"
      ],
      "metadata": {
        "colab": {
          "base_uri": "https://localhost:8080/"
        },
        "id": "MeSwL63vgXgH",
        "outputId": "07d081c0-0065-4741-d0b3-18e3771c18b1"
      },
      "execution_count": 48,
      "outputs": [
        {
          "output_type": "execute_result",
          "data": {
            "text/plain": [
              "[1, 1, 1, 1, 1, 1, 1, 1, 1, 1, 1]"
            ]
          },
          "metadata": {},
          "execution_count": 48
        }
      ]
    },
    {
      "cell_type": "markdown",
      "source": [
        "Считаем pred листа"
      ],
      "metadata": {
        "id": "68ga0qevpTHh"
      }
    },
    {
      "cell_type": "code",
      "source": [
        "get_pred(get_pred_from_samples(get_samples('37_long')))"
      ],
      "metadata": {
        "colab": {
          "base_uri": "https://localhost:8080/"
        },
        "id": "0aVUXzVoja_o",
        "outputId": "603716bb-dd66-450e-8f9a-556c73de9e88"
      },
      "execution_count": 49,
      "outputs": [
        {
          "output_type": "execute_result",
          "data": {
            "text/plain": [
              "0.8666666666666667"
            ]
          },
          "metadata": {},
          "execution_count": 49
        }
      ]
    },
    {
      "cell_type": "code",
      "source": [
        "for index, row in df.iterrows ():\n",
        " df.loc[index, 'pred'] = get_pred(get_pred_from_samples(get_samples(row['id'])))\n",
        "df.head()"
      ],
      "metadata": {
        "colab": {
          "base_uri": "https://localhost:8080/",
          "height": 206
        },
        "id": "cPz_eoDDjpJp",
        "outputId": "e46740a7-c3b5-4015-af7b-03c3041e40f3"
      },
      "execution_count": 50,
      "outputs": [
        {
          "output_type": "execute_result",
          "data": {
            "text/plain": [
              "          id      pred\n",
              "0  101_cross  0.500000\n",
              "1   103_long  0.285714\n",
              "2   101_long  1.000000\n",
              "3   114_long  0.000000\n",
              "4    37_long  0.866667"
            ],
            "text/html": [
              "\n",
              "  <div id=\"df-e6b413d5-b812-423b-916b-0b3d51412304\" class=\"colab-df-container\">\n",
              "    <div>\n",
              "<style scoped>\n",
              "    .dataframe tbody tr th:only-of-type {\n",
              "        vertical-align: middle;\n",
              "    }\n",
              "\n",
              "    .dataframe tbody tr th {\n",
              "        vertical-align: top;\n",
              "    }\n",
              "\n",
              "    .dataframe thead th {\n",
              "        text-align: right;\n",
              "    }\n",
              "</style>\n",
              "<table border=\"1\" class=\"dataframe\">\n",
              "  <thead>\n",
              "    <tr style=\"text-align: right;\">\n",
              "      <th></th>\n",
              "      <th>id</th>\n",
              "      <th>pred</th>\n",
              "    </tr>\n",
              "  </thead>\n",
              "  <tbody>\n",
              "    <tr>\n",
              "      <th>0</th>\n",
              "      <td>101_cross</td>\n",
              "      <td>0.500000</td>\n",
              "    </tr>\n",
              "    <tr>\n",
              "      <th>1</th>\n",
              "      <td>103_long</td>\n",
              "      <td>0.285714</td>\n",
              "    </tr>\n",
              "    <tr>\n",
              "      <th>2</th>\n",
              "      <td>101_long</td>\n",
              "      <td>1.000000</td>\n",
              "    </tr>\n",
              "    <tr>\n",
              "      <th>3</th>\n",
              "      <td>114_long</td>\n",
              "      <td>0.000000</td>\n",
              "    </tr>\n",
              "    <tr>\n",
              "      <th>4</th>\n",
              "      <td>37_long</td>\n",
              "      <td>0.866667</td>\n",
              "    </tr>\n",
              "  </tbody>\n",
              "</table>\n",
              "</div>\n",
              "    <div class=\"colab-df-buttons\">\n",
              "\n",
              "  <div class=\"colab-df-container\">\n",
              "    <button class=\"colab-df-convert\" onclick=\"convertToInteractive('df-e6b413d5-b812-423b-916b-0b3d51412304')\"\n",
              "            title=\"Convert this dataframe to an interactive table.\"\n",
              "            style=\"display:none;\">\n",
              "\n",
              "  <svg xmlns=\"http://www.w3.org/2000/svg\" height=\"24px\" viewBox=\"0 -960 960 960\">\n",
              "    <path d=\"M120-120v-720h720v720H120Zm60-500h600v-160H180v160Zm220 220h160v-160H400v160Zm0 220h160v-160H400v160ZM180-400h160v-160H180v160Zm440 0h160v-160H620v160ZM180-180h160v-160H180v160Zm440 0h160v-160H620v160Z\"/>\n",
              "  </svg>\n",
              "    </button>\n",
              "\n",
              "  <style>\n",
              "    .colab-df-container {\n",
              "      display:flex;\n",
              "      gap: 12px;\n",
              "    }\n",
              "\n",
              "    .colab-df-convert {\n",
              "      background-color: #E8F0FE;\n",
              "      border: none;\n",
              "      border-radius: 50%;\n",
              "      cursor: pointer;\n",
              "      display: none;\n",
              "      fill: #1967D2;\n",
              "      height: 32px;\n",
              "      padding: 0 0 0 0;\n",
              "      width: 32px;\n",
              "    }\n",
              "\n",
              "    .colab-df-convert:hover {\n",
              "      background-color: #E2EBFA;\n",
              "      box-shadow: 0px 1px 2px rgba(60, 64, 67, 0.3), 0px 1px 3px 1px rgba(60, 64, 67, 0.15);\n",
              "      fill: #174EA6;\n",
              "    }\n",
              "\n",
              "    .colab-df-buttons div {\n",
              "      margin-bottom: 4px;\n",
              "    }\n",
              "\n",
              "    [theme=dark] .colab-df-convert {\n",
              "      background-color: #3B4455;\n",
              "      fill: #D2E3FC;\n",
              "    }\n",
              "\n",
              "    [theme=dark] .colab-df-convert:hover {\n",
              "      background-color: #434B5C;\n",
              "      box-shadow: 0px 1px 3px 1px rgba(0, 0, 0, 0.15);\n",
              "      filter: drop-shadow(0px 1px 2px rgba(0, 0, 0, 0.3));\n",
              "      fill: #FFFFFF;\n",
              "    }\n",
              "  </style>\n",
              "\n",
              "    <script>\n",
              "      const buttonEl =\n",
              "        document.querySelector('#df-e6b413d5-b812-423b-916b-0b3d51412304 button.colab-df-convert');\n",
              "      buttonEl.style.display =\n",
              "        google.colab.kernel.accessAllowed ? 'block' : 'none';\n",
              "\n",
              "      async function convertToInteractive(key) {\n",
              "        const element = document.querySelector('#df-e6b413d5-b812-423b-916b-0b3d51412304');\n",
              "        const dataTable =\n",
              "          await google.colab.kernel.invokeFunction('convertToInteractive',\n",
              "                                                    [key], {});\n",
              "        if (!dataTable) return;\n",
              "\n",
              "        const docLinkHtml = 'Like what you see? Visit the ' +\n",
              "          '<a target=\"_blank\" href=https://colab.research.google.com/notebooks/data_table.ipynb>data table notebook</a>'\n",
              "          + ' to learn more about interactive tables.';\n",
              "        element.innerHTML = '';\n",
              "        dataTable['output_type'] = 'display_data';\n",
              "        await google.colab.output.renderOutput(dataTable, element);\n",
              "        const docLink = document.createElement('div');\n",
              "        docLink.innerHTML = docLinkHtml;\n",
              "        element.appendChild(docLink);\n",
              "      }\n",
              "    </script>\n",
              "  </div>\n",
              "\n",
              "\n",
              "<div id=\"df-8e850f1d-724b-4bb6-ae38-65e03f6671b6\">\n",
              "  <button class=\"colab-df-quickchart\" onclick=\"quickchart('df-8e850f1d-724b-4bb6-ae38-65e03f6671b6')\"\n",
              "            title=\"Suggest charts.\"\n",
              "            style=\"display:none;\">\n",
              "\n",
              "<svg xmlns=\"http://www.w3.org/2000/svg\" height=\"24px\"viewBox=\"0 0 24 24\"\n",
              "     width=\"24px\">\n",
              "    <g>\n",
              "        <path d=\"M19 3H5c-1.1 0-2 .9-2 2v14c0 1.1.9 2 2 2h14c1.1 0 2-.9 2-2V5c0-1.1-.9-2-2-2zM9 17H7v-7h2v7zm4 0h-2V7h2v10zm4 0h-2v-4h2v4z\"/>\n",
              "    </g>\n",
              "</svg>\n",
              "  </button>\n",
              "\n",
              "<style>\n",
              "  .colab-df-quickchart {\n",
              "      --bg-color: #E8F0FE;\n",
              "      --fill-color: #1967D2;\n",
              "      --hover-bg-color: #E2EBFA;\n",
              "      --hover-fill-color: #174EA6;\n",
              "      --disabled-fill-color: #AAA;\n",
              "      --disabled-bg-color: #DDD;\n",
              "  }\n",
              "\n",
              "  [theme=dark] .colab-df-quickchart {\n",
              "      --bg-color: #3B4455;\n",
              "      --fill-color: #D2E3FC;\n",
              "      --hover-bg-color: #434B5C;\n",
              "      --hover-fill-color: #FFFFFF;\n",
              "      --disabled-bg-color: #3B4455;\n",
              "      --disabled-fill-color: #666;\n",
              "  }\n",
              "\n",
              "  .colab-df-quickchart {\n",
              "    background-color: var(--bg-color);\n",
              "    border: none;\n",
              "    border-radius: 50%;\n",
              "    cursor: pointer;\n",
              "    display: none;\n",
              "    fill: var(--fill-color);\n",
              "    height: 32px;\n",
              "    padding: 0;\n",
              "    width: 32px;\n",
              "  }\n",
              "\n",
              "  .colab-df-quickchart:hover {\n",
              "    background-color: var(--hover-bg-color);\n",
              "    box-shadow: 0 1px 2px rgba(60, 64, 67, 0.3), 0 1px 3px 1px rgba(60, 64, 67, 0.15);\n",
              "    fill: var(--button-hover-fill-color);\n",
              "  }\n",
              "\n",
              "  .colab-df-quickchart-complete:disabled,\n",
              "  .colab-df-quickchart-complete:disabled:hover {\n",
              "    background-color: var(--disabled-bg-color);\n",
              "    fill: var(--disabled-fill-color);\n",
              "    box-shadow: none;\n",
              "  }\n",
              "\n",
              "  .colab-df-spinner {\n",
              "    border: 2px solid var(--fill-color);\n",
              "    border-color: transparent;\n",
              "    border-bottom-color: var(--fill-color);\n",
              "    animation:\n",
              "      spin 1s steps(1) infinite;\n",
              "  }\n",
              "\n",
              "  @keyframes spin {\n",
              "    0% {\n",
              "      border-color: transparent;\n",
              "      border-bottom-color: var(--fill-color);\n",
              "      border-left-color: var(--fill-color);\n",
              "    }\n",
              "    20% {\n",
              "      border-color: transparent;\n",
              "      border-left-color: var(--fill-color);\n",
              "      border-top-color: var(--fill-color);\n",
              "    }\n",
              "    30% {\n",
              "      border-color: transparent;\n",
              "      border-left-color: var(--fill-color);\n",
              "      border-top-color: var(--fill-color);\n",
              "      border-right-color: var(--fill-color);\n",
              "    }\n",
              "    40% {\n",
              "      border-color: transparent;\n",
              "      border-right-color: var(--fill-color);\n",
              "      border-top-color: var(--fill-color);\n",
              "    }\n",
              "    60% {\n",
              "      border-color: transparent;\n",
              "      border-right-color: var(--fill-color);\n",
              "    }\n",
              "    80% {\n",
              "      border-color: transparent;\n",
              "      border-right-color: var(--fill-color);\n",
              "      border-bottom-color: var(--fill-color);\n",
              "    }\n",
              "    90% {\n",
              "      border-color: transparent;\n",
              "      border-bottom-color: var(--fill-color);\n",
              "    }\n",
              "  }\n",
              "</style>\n",
              "\n",
              "  <script>\n",
              "    async function quickchart(key) {\n",
              "      const quickchartButtonEl =\n",
              "        document.querySelector('#' + key + ' button');\n",
              "      quickchartButtonEl.disabled = true;  // To prevent multiple clicks.\n",
              "      quickchartButtonEl.classList.add('colab-df-spinner');\n",
              "      try {\n",
              "        const charts = await google.colab.kernel.invokeFunction(\n",
              "            'suggestCharts', [key], {});\n",
              "      } catch (error) {\n",
              "        console.error('Error during call to suggestCharts:', error);\n",
              "      }\n",
              "      quickchartButtonEl.classList.remove('colab-df-spinner');\n",
              "      quickchartButtonEl.classList.add('colab-df-quickchart-complete');\n",
              "    }\n",
              "    (() => {\n",
              "      let quickchartButtonEl =\n",
              "        document.querySelector('#df-8e850f1d-724b-4bb6-ae38-65e03f6671b6 button');\n",
              "      quickchartButtonEl.style.display =\n",
              "        google.colab.kernel.accessAllowed ? 'block' : 'none';\n",
              "    })();\n",
              "  </script>\n",
              "</div>\n",
              "    </div>\n",
              "  </div>\n"
            ]
          },
          "metadata": {},
          "execution_count": 50
        }
      ]
    },
    {
      "cell_type": "code",
      "source": [
        "df"
      ],
      "metadata": {
        "colab": {
          "base_uri": "https://localhost:8080/",
          "height": 677
        },
        "id": "QhWP55I1jylt",
        "outputId": "a6a5b0c8-781c-4477-c58e-ba72e81ae0d4"
      },
      "execution_count": 51,
      "outputs": [
        {
          "output_type": "execute_result",
          "data": {
            "text/plain": [
              "           id      pred\n",
              "0   101_cross  0.500000\n",
              "1    103_long  0.285714\n",
              "2    101_long  1.000000\n",
              "3    114_long  0.000000\n",
              "4     37_long  0.866667\n",
              "5    140_long  0.000000\n",
              "6    143_long  0.000000\n",
              "7    67_cross  0.000000\n",
              "8    61_cross  0.000000\n",
              "9     72_long  0.916667\n",
              "10   71_cross  0.800000\n",
              "11   73_cross  0.200000\n",
              "12   77_cross  0.200000\n",
              "13   80_cross  0.000000\n",
              "14   87_cross  0.600000\n",
              "15   88_cross  1.000000\n",
              "16    80_long  0.000000\n",
              "17   94_cross  1.000000\n",
              "18    90_long  0.823529\n",
              "19    94_long  0.000000"
            ],
            "text/html": [
              "\n",
              "  <div id=\"df-271c1a41-d783-447d-b3f5-c992710a83aa\" class=\"colab-df-container\">\n",
              "    <div>\n",
              "<style scoped>\n",
              "    .dataframe tbody tr th:only-of-type {\n",
              "        vertical-align: middle;\n",
              "    }\n",
              "\n",
              "    .dataframe tbody tr th {\n",
              "        vertical-align: top;\n",
              "    }\n",
              "\n",
              "    .dataframe thead th {\n",
              "        text-align: right;\n",
              "    }\n",
              "</style>\n",
              "<table border=\"1\" class=\"dataframe\">\n",
              "  <thead>\n",
              "    <tr style=\"text-align: right;\">\n",
              "      <th></th>\n",
              "      <th>id</th>\n",
              "      <th>pred</th>\n",
              "    </tr>\n",
              "  </thead>\n",
              "  <tbody>\n",
              "    <tr>\n",
              "      <th>0</th>\n",
              "      <td>101_cross</td>\n",
              "      <td>0.500000</td>\n",
              "    </tr>\n",
              "    <tr>\n",
              "      <th>1</th>\n",
              "      <td>103_long</td>\n",
              "      <td>0.285714</td>\n",
              "    </tr>\n",
              "    <tr>\n",
              "      <th>2</th>\n",
              "      <td>101_long</td>\n",
              "      <td>1.000000</td>\n",
              "    </tr>\n",
              "    <tr>\n",
              "      <th>3</th>\n",
              "      <td>114_long</td>\n",
              "      <td>0.000000</td>\n",
              "    </tr>\n",
              "    <tr>\n",
              "      <th>4</th>\n",
              "      <td>37_long</td>\n",
              "      <td>0.866667</td>\n",
              "    </tr>\n",
              "    <tr>\n",
              "      <th>5</th>\n",
              "      <td>140_long</td>\n",
              "      <td>0.000000</td>\n",
              "    </tr>\n",
              "    <tr>\n",
              "      <th>6</th>\n",
              "      <td>143_long</td>\n",
              "      <td>0.000000</td>\n",
              "    </tr>\n",
              "    <tr>\n",
              "      <th>7</th>\n",
              "      <td>67_cross</td>\n",
              "      <td>0.000000</td>\n",
              "    </tr>\n",
              "    <tr>\n",
              "      <th>8</th>\n",
              "      <td>61_cross</td>\n",
              "      <td>0.000000</td>\n",
              "    </tr>\n",
              "    <tr>\n",
              "      <th>9</th>\n",
              "      <td>72_long</td>\n",
              "      <td>0.916667</td>\n",
              "    </tr>\n",
              "    <tr>\n",
              "      <th>10</th>\n",
              "      <td>71_cross</td>\n",
              "      <td>0.800000</td>\n",
              "    </tr>\n",
              "    <tr>\n",
              "      <th>11</th>\n",
              "      <td>73_cross</td>\n",
              "      <td>0.200000</td>\n",
              "    </tr>\n",
              "    <tr>\n",
              "      <th>12</th>\n",
              "      <td>77_cross</td>\n",
              "      <td>0.200000</td>\n",
              "    </tr>\n",
              "    <tr>\n",
              "      <th>13</th>\n",
              "      <td>80_cross</td>\n",
              "      <td>0.000000</td>\n",
              "    </tr>\n",
              "    <tr>\n",
              "      <th>14</th>\n",
              "      <td>87_cross</td>\n",
              "      <td>0.600000</td>\n",
              "    </tr>\n",
              "    <tr>\n",
              "      <th>15</th>\n",
              "      <td>88_cross</td>\n",
              "      <td>1.000000</td>\n",
              "    </tr>\n",
              "    <tr>\n",
              "      <th>16</th>\n",
              "      <td>80_long</td>\n",
              "      <td>0.000000</td>\n",
              "    </tr>\n",
              "    <tr>\n",
              "      <th>17</th>\n",
              "      <td>94_cross</td>\n",
              "      <td>1.000000</td>\n",
              "    </tr>\n",
              "    <tr>\n",
              "      <th>18</th>\n",
              "      <td>90_long</td>\n",
              "      <td>0.823529</td>\n",
              "    </tr>\n",
              "    <tr>\n",
              "      <th>19</th>\n",
              "      <td>94_long</td>\n",
              "      <td>0.000000</td>\n",
              "    </tr>\n",
              "  </tbody>\n",
              "</table>\n",
              "</div>\n",
              "    <div class=\"colab-df-buttons\">\n",
              "\n",
              "  <div class=\"colab-df-container\">\n",
              "    <button class=\"colab-df-convert\" onclick=\"convertToInteractive('df-271c1a41-d783-447d-b3f5-c992710a83aa')\"\n",
              "            title=\"Convert this dataframe to an interactive table.\"\n",
              "            style=\"display:none;\">\n",
              "\n",
              "  <svg xmlns=\"http://www.w3.org/2000/svg\" height=\"24px\" viewBox=\"0 -960 960 960\">\n",
              "    <path d=\"M120-120v-720h720v720H120Zm60-500h600v-160H180v160Zm220 220h160v-160H400v160Zm0 220h160v-160H400v160ZM180-400h160v-160H180v160Zm440 0h160v-160H620v160ZM180-180h160v-160H180v160Zm440 0h160v-160H620v160Z\"/>\n",
              "  </svg>\n",
              "    </button>\n",
              "\n",
              "  <style>\n",
              "    .colab-df-container {\n",
              "      display:flex;\n",
              "      gap: 12px;\n",
              "    }\n",
              "\n",
              "    .colab-df-convert {\n",
              "      background-color: #E8F0FE;\n",
              "      border: none;\n",
              "      border-radius: 50%;\n",
              "      cursor: pointer;\n",
              "      display: none;\n",
              "      fill: #1967D2;\n",
              "      height: 32px;\n",
              "      padding: 0 0 0 0;\n",
              "      width: 32px;\n",
              "    }\n",
              "\n",
              "    .colab-df-convert:hover {\n",
              "      background-color: #E2EBFA;\n",
              "      box-shadow: 0px 1px 2px rgba(60, 64, 67, 0.3), 0px 1px 3px 1px rgba(60, 64, 67, 0.15);\n",
              "      fill: #174EA6;\n",
              "    }\n",
              "\n",
              "    .colab-df-buttons div {\n",
              "      margin-bottom: 4px;\n",
              "    }\n",
              "\n",
              "    [theme=dark] .colab-df-convert {\n",
              "      background-color: #3B4455;\n",
              "      fill: #D2E3FC;\n",
              "    }\n",
              "\n",
              "    [theme=dark] .colab-df-convert:hover {\n",
              "      background-color: #434B5C;\n",
              "      box-shadow: 0px 1px 3px 1px rgba(0, 0, 0, 0.15);\n",
              "      filter: drop-shadow(0px 1px 2px rgba(0, 0, 0, 0.3));\n",
              "      fill: #FFFFFF;\n",
              "    }\n",
              "  </style>\n",
              "\n",
              "    <script>\n",
              "      const buttonEl =\n",
              "        document.querySelector('#df-271c1a41-d783-447d-b3f5-c992710a83aa button.colab-df-convert');\n",
              "      buttonEl.style.display =\n",
              "        google.colab.kernel.accessAllowed ? 'block' : 'none';\n",
              "\n",
              "      async function convertToInteractive(key) {\n",
              "        const element = document.querySelector('#df-271c1a41-d783-447d-b3f5-c992710a83aa');\n",
              "        const dataTable =\n",
              "          await google.colab.kernel.invokeFunction('convertToInteractive',\n",
              "                                                    [key], {});\n",
              "        if (!dataTable) return;\n",
              "\n",
              "        const docLinkHtml = 'Like what you see? Visit the ' +\n",
              "          '<a target=\"_blank\" href=https://colab.research.google.com/notebooks/data_table.ipynb>data table notebook</a>'\n",
              "          + ' to learn more about interactive tables.';\n",
              "        element.innerHTML = '';\n",
              "        dataTable['output_type'] = 'display_data';\n",
              "        await google.colab.output.renderOutput(dataTable, element);\n",
              "        const docLink = document.createElement('div');\n",
              "        docLink.innerHTML = docLinkHtml;\n",
              "        element.appendChild(docLink);\n",
              "      }\n",
              "    </script>\n",
              "  </div>\n",
              "\n",
              "\n",
              "<div id=\"df-77f15b12-bab9-4bd9-a5cf-7656885f0dd6\">\n",
              "  <button class=\"colab-df-quickchart\" onclick=\"quickchart('df-77f15b12-bab9-4bd9-a5cf-7656885f0dd6')\"\n",
              "            title=\"Suggest charts.\"\n",
              "            style=\"display:none;\">\n",
              "\n",
              "<svg xmlns=\"http://www.w3.org/2000/svg\" height=\"24px\"viewBox=\"0 0 24 24\"\n",
              "     width=\"24px\">\n",
              "    <g>\n",
              "        <path d=\"M19 3H5c-1.1 0-2 .9-2 2v14c0 1.1.9 2 2 2h14c1.1 0 2-.9 2-2V5c0-1.1-.9-2-2-2zM9 17H7v-7h2v7zm4 0h-2V7h2v10zm4 0h-2v-4h2v4z\"/>\n",
              "    </g>\n",
              "</svg>\n",
              "  </button>\n",
              "\n",
              "<style>\n",
              "  .colab-df-quickchart {\n",
              "      --bg-color: #E8F0FE;\n",
              "      --fill-color: #1967D2;\n",
              "      --hover-bg-color: #E2EBFA;\n",
              "      --hover-fill-color: #174EA6;\n",
              "      --disabled-fill-color: #AAA;\n",
              "      --disabled-bg-color: #DDD;\n",
              "  }\n",
              "\n",
              "  [theme=dark] .colab-df-quickchart {\n",
              "      --bg-color: #3B4455;\n",
              "      --fill-color: #D2E3FC;\n",
              "      --hover-bg-color: #434B5C;\n",
              "      --hover-fill-color: #FFFFFF;\n",
              "      --disabled-bg-color: #3B4455;\n",
              "      --disabled-fill-color: #666;\n",
              "  }\n",
              "\n",
              "  .colab-df-quickchart {\n",
              "    background-color: var(--bg-color);\n",
              "    border: none;\n",
              "    border-radius: 50%;\n",
              "    cursor: pointer;\n",
              "    display: none;\n",
              "    fill: var(--fill-color);\n",
              "    height: 32px;\n",
              "    padding: 0;\n",
              "    width: 32px;\n",
              "  }\n",
              "\n",
              "  .colab-df-quickchart:hover {\n",
              "    background-color: var(--hover-bg-color);\n",
              "    box-shadow: 0 1px 2px rgba(60, 64, 67, 0.3), 0 1px 3px 1px rgba(60, 64, 67, 0.15);\n",
              "    fill: var(--button-hover-fill-color);\n",
              "  }\n",
              "\n",
              "  .colab-df-quickchart-complete:disabled,\n",
              "  .colab-df-quickchart-complete:disabled:hover {\n",
              "    background-color: var(--disabled-bg-color);\n",
              "    fill: var(--disabled-fill-color);\n",
              "    box-shadow: none;\n",
              "  }\n",
              "\n",
              "  .colab-df-spinner {\n",
              "    border: 2px solid var(--fill-color);\n",
              "    border-color: transparent;\n",
              "    border-bottom-color: var(--fill-color);\n",
              "    animation:\n",
              "      spin 1s steps(1) infinite;\n",
              "  }\n",
              "\n",
              "  @keyframes spin {\n",
              "    0% {\n",
              "      border-color: transparent;\n",
              "      border-bottom-color: var(--fill-color);\n",
              "      border-left-color: var(--fill-color);\n",
              "    }\n",
              "    20% {\n",
              "      border-color: transparent;\n",
              "      border-left-color: var(--fill-color);\n",
              "      border-top-color: var(--fill-color);\n",
              "    }\n",
              "    30% {\n",
              "      border-color: transparent;\n",
              "      border-left-color: var(--fill-color);\n",
              "      border-top-color: var(--fill-color);\n",
              "      border-right-color: var(--fill-color);\n",
              "    }\n",
              "    40% {\n",
              "      border-color: transparent;\n",
              "      border-right-color: var(--fill-color);\n",
              "      border-top-color: var(--fill-color);\n",
              "    }\n",
              "    60% {\n",
              "      border-color: transparent;\n",
              "      border-right-color: var(--fill-color);\n",
              "    }\n",
              "    80% {\n",
              "      border-color: transparent;\n",
              "      border-right-color: var(--fill-color);\n",
              "      border-bottom-color: var(--fill-color);\n",
              "    }\n",
              "    90% {\n",
              "      border-color: transparent;\n",
              "      border-bottom-color: var(--fill-color);\n",
              "    }\n",
              "  }\n",
              "</style>\n",
              "\n",
              "  <script>\n",
              "    async function quickchart(key) {\n",
              "      const quickchartButtonEl =\n",
              "        document.querySelector('#' + key + ' button');\n",
              "      quickchartButtonEl.disabled = true;  // To prevent multiple clicks.\n",
              "      quickchartButtonEl.classList.add('colab-df-spinner');\n",
              "      try {\n",
              "        const charts = await google.colab.kernel.invokeFunction(\n",
              "            'suggestCharts', [key], {});\n",
              "      } catch (error) {\n",
              "        console.error('Error during call to suggestCharts:', error);\n",
              "      }\n",
              "      quickchartButtonEl.classList.remove('colab-df-spinner');\n",
              "      quickchartButtonEl.classList.add('colab-df-quickchart-complete');\n",
              "    }\n",
              "    (() => {\n",
              "      let quickchartButtonEl =\n",
              "        document.querySelector('#df-77f15b12-bab9-4bd9-a5cf-7656885f0dd6 button');\n",
              "      quickchartButtonEl.style.display =\n",
              "        google.colab.kernel.accessAllowed ? 'block' : 'none';\n",
              "    })();\n",
              "  </script>\n",
              "</div>\n",
              "    </div>\n",
              "  </div>\n"
            ]
          },
          "metadata": {},
          "execution_count": 51
        }
      ]
    },
    {
      "cell_type": "markdown",
      "source": [
        "Сохраним df как csv"
      ],
      "metadata": {
        "id": "5cafEUcHpqOq"
      }
    },
    {
      "cell_type": "code",
      "source": [
        "df.to_csv('/content/drive/MyDrive/Colab Notebooks/MEPHI/ResNet/res_of_new_data.csv', index=False)"
      ],
      "metadata": {
        "id": "FvAgBOmuqr9u"
      },
      "execution_count": 52,
      "outputs": []
    },
    {
      "cell_type": "code",
      "source": [
        "sample_1 = '/content/drive/MyDrive/Colab Notebooks/MEPHI/ResNet/output/val/one/179Block_5.jpg'\n",
        "sample_2 = '/content/drive/MyDrive/Colab Notebooks/MEPHI/ResNet/output/val/one/186Block_115.jpg'\n",
        "sample_3 = '/content/drive/MyDrive/Colab Notebooks/MEPHI/ResNet/output/val/zero/193Block_65.jpg'\n",
        "sample_4 = '/content/drive/MyDrive/Colab Notebooks/MEPHI/ResNet/output/val/zero/199Block_30.jpg'\n",
        "\n",
        "sample_list = [sample_1,sample_2,sample_3,sample_4]"
      ],
      "metadata": {
        "id": "QnynmdZLkzoJ"
      },
      "execution_count": 55,
      "outputs": []
    },
    {
      "cell_type": "code",
      "source": [
        "from PIL import Image\n",
        "import numpy as np\n",
        "\n",
        "for image_path in sample_list:\n",
        "    img = pil_loader(image_path)\n",
        "    display(img.resize((224,224)))\n",
        "    img_tensor = tfm(img)\n",
        "    img_tensor = img_tensor[np.newaxis, :]\n",
        "    img_tensor = img_tensor.to(device)\n",
        "    pred_prob = model(img_tensor)\n",
        "    pred = torch.max(pred_prob,1).indices\n",
        "    pred = pred.item()\n",
        "    if pred == 1:\n",
        "        print(f\"Model prediction {pred}, 1\")\n",
        "    else:\n",
        "        print(f\"Model prediction {pred}, 0\")\n",
        "\n",
        "    print(\"========================================================\")"
      ],
      "metadata": {
        "colab": {
          "base_uri": "https://localhost:8080/",
          "height": 1000
        },
        "id": "-TU5wHrZkVzV",
        "outputId": "1e1e1a0a-bc1a-4dff-8b1f-4c7c304b3109"
      },
      "execution_count": 56,
      "outputs": [
        {
          "output_type": "display_data",
          "data": {
            "text/plain": [
              "<PIL.Image.Image image mode=RGB size=224x224>"
            ],
            "image/png": "[encoded data removed]"
          },
          "metadata": {}
        },
        {
          "output_type": "stream",
          "name": "stdout",
          "text": [
            "Model prediction 0, 0\n",
            "========================================================\n"
          ]
        },
        {
          "output_type": "display_data",
          "data": {
            "text/plain": [
              "<PIL.Image.Image image mode=RGB size=224x224>"
            ],
            "image/png": "[encoded data removed]"
          },
          "metadata": {}
        },
        {
          "output_type": "stream",
          "name": "stdout",
          "text": [
            "Model prediction 0, 0\n",
            "========================================================\n"
          ]
        },
        {
          "output_type": "display_data",
          "data": {
            "text/plain": [
              "<PIL.Image.Image image mode=RGB size=224x224>"
            ],
            "image/png": "[encoded data removed]"
          },
          "metadata": {}
        },
        {
          "output_type": "stream",
          "name": "stdout",
          "text": [
            "Model prediction 1, 1\n",
            "========================================================\n"
          ]
        },
        {
          "output_type": "display_data",
          "data": {
            "text/plain": [
              "<PIL.Image.Image image mode=RGB size=224x224>"
            ],
            "image/png": "[encoded data removed]"
          },
          "metadata": {}
        },
        {
          "output_type": "stream",
          "name": "stdout",
          "text": [
            "Model prediction 1, 1\n",
            "========================================================\n"
          ]
        }
      ]
    },
    {
      "cell_type": "code",
      "source": [],
      "metadata": {
        "id": "qdq7f0mGk0d7"
      },
      "execution_count": 23,
      "outputs": []
    }
  ]
}