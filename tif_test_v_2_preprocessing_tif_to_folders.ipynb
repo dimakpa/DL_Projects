{
  "cells": [
    {
      "cell_type": "markdown",
      "metadata": {
        "id": "view-in-github",
        "colab_type": "text"
      },
      "source": [
        "<a href=\"https://colab.research.google.com/github/dimakpa/DL_Projects/blob/main/tif_test_v_2_preprocessing_tif_to_folders.ipynb\" target=\"_parent\"><img src=\"https://colab.research.google.com/assets/colab-badge.svg\" alt=\"Open In Colab\"/></a>"
      ]
    },
    {
      "cell_type": "code",
      "execution_count": null,
      "id": "261b914b",
      "metadata": {
        "id": "261b914b"
      },
      "outputs": [],
      "source": [
        "import pandas as pd\n",
        "import numpy as np\n",
        "import torch\n",
        "from torchvision.models import efficientnet_b6 as efficientnet_b6\n",
        "from torch.utils.data import Dataset, DataLoader\n",
        "from torchvision import transforms\n",
        "from torch import nn\n",
        "from torch.nn import functional as F\n",
        "from sklearn.model_selection import train_test_split\n",
        "import imgaug as ia\n",
        "from imgaug import augmenters as iaa\n",
        "import os\n",
        "import cv2\n",
        "import numpy as np\n",
        "from PIL import Image\n",
        "import matplotlib.pyplot as plt\n",
        "# %matplotlib inline\n",
        "import random\n",
        "import json\n",
        "from sklearn.metrics import accuracy_score, precision_score, recall_score, f1_score, confusion_matrix, ConfusionMatrixDisplay\n",
        "from statistics import mean\n",
        "from torch.optim import lr_scheduler\n",
        "from PIL import Image\n",
        "import csv\n",
        "from skimage.measure import regionprops\n",
        "from skimage.transform import resize"
      ]
    },
    {
      "cell_type": "markdown",
      "id": "cc6e1d55",
      "metadata": {
        "id": "cc6e1d55"
      },
      "source": [
        "Функция, которая превращает .tif в файл со снимками, на которых размечены узлы\n"
      ]
    },
    {
      "cell_type": "code",
      "execution_count": null,
      "id": "d998e439",
      "metadata": {
        "id": "d998e439"
      },
      "outputs": [],
      "source": [
        "# Папки с тифами разных тирадсов\n",
        "paths_with_tifs_2_3 = 'C:/Users/dimak/Desktop/Work/Laba/dataset/CLASSIFICATION_new_dataset_study_17.10.23/data_for_test/tirads2-3/'\n",
        "paths_with_tifs_4 = 'C:/Users/dimak/Desktop/Work/Laba/dataset/CLASSIFICATION_new_dataset_study_17.10.23/data_for_test/tirads4/'\n",
        "paths_with_tifs_5 = 'C:/Users/dimak/Desktop/Work/Laba/dataset/CLASSIFICATION_new_dataset_study_17.10.23/data_for_test/tirads5/'\n",
        "\n",
        "# Куда сохраняем папки разных тирадсов\n",
        "paths_to_save_tifs_2_3 = 'C:/Users/dimak/Desktop/Work/Laba/dataset/CLASSIFICATION_new_dataset_study_17.10.23/data_for_test/data_after_preprocessing/tirads2-3/'\n",
        "paths_to_save_tifs_4 = 'C:/Users/dimak/Desktop/Work/Laba/dataset/CLASSIFICATION_new_dataset_study_17.10.23/data_for_test/data_after_preprocessing/tirads4/'\n",
        "paths_to_save_tifs_5 = 'C:/Users/dimak/Desktop/Work/Laba/dataset/CLASSIFICATION_new_dataset_study_17.10.23/data_for_test/data_after_preprocessing/tirads5/'\n",
        "\n",
        "\n",
        "# path_tif = 'C:/Users/dimak/Desktop/Work/Laba/dataset/CLASSIFICATION_new_dataset_study_17.10.23/study_019_TIRADS4_long.tif'"
      ]
    },
    {
      "cell_type": "markdown",
      "id": "64f38c05",
      "metadata": {
        "id": "64f38c05"
      },
      "source": [
        "Соберем названия тифов в папках"
      ]
    },
    {
      "cell_type": "code",
      "execution_count": null,
      "id": "704704ac",
      "metadata": {
        "id": "704704ac"
      },
      "outputs": [],
      "source": [
        "def get_pathes(path):\n",
        "    x_pathes = []\n",
        "    y_pathes = []\n",
        "    for patient in os.listdir(path):\n",
        "        # print(patient)\n",
        "        for tif_name in os.listdir(path + patient + '/'):\n",
        "            if 'mask' in tif_name:\n",
        "\n",
        "                try:\n",
        "                  if(tif_name[0] != 's'):\n",
        "                    N = int(tif_name.split('_')[1][6])\n",
        "                  else:\n",
        "                    N = int(tif_name.split('_')[2][6])\n",
        "                except IndexError:\n",
        "                  N = 5 # Ищем данный файл в df и и сопоставляем TIRADS в y_paths\n",
        "#                   N = search_tirads(tif_name, df_train, df_valid)\n",
        "\n",
        "                y_pathes.append([patient + '/' + tif_name, N, tif_name]) #Тирадс считаю чуть по-другому\n",
        "                x_pathes.append(patient + '/' + tif_name.replace('_mask', ''))\n",
        "    return x_pathes, y_pathes"
      ]
    },
    {
      "cell_type": "code",
      "execution_count": null,
      "id": "a7be1842",
      "metadata": {
        "id": "a7be1842",
        "outputId": "02ff3a30-dbdf-4f96-f0d5-c42f00ac8ffb"
      },
      "outputs": [
        {
          "data": {
            "text/plain": [
              "['study_001/study_001_TIRADS3_cross_mask.tif',\n",
              " 3,\n",
              " 'study_001_TIRADS3_cross_mask.tif']"
            ]
          },
          "execution_count": 12,
          "metadata": {},
          "output_type": "execute_result"
        }
      ],
      "source": [
        "x_pathes, y_pathes = get_pathes(paths_with_tifs_2_3)\n",
        "y_pathes[0]"
      ]
    },
    {
      "cell_type": "markdown",
      "id": "eb710945",
      "metadata": {
        "id": "eb710945"
      },
      "source": [
        "Подгружаем тиф и разбиваем на фотки.\n",
        "\n",
        "Создаем лист листов фоток\n"
      ]
    },
    {
      "cell_type": "code",
      "execution_count": null,
      "id": "691b7ae1",
      "metadata": {
        "id": "691b7ae1"
      },
      "outputs": [],
      "source": [
        "def get_images(x_pathes, y_pathes, path):\n",
        "\n",
        "    images = []\n",
        "    masks = []\n",
        "    for x_path, y_path in zip(x_pathes, y_pathes):\n",
        "        if y_path[1] != 0:\n",
        "          # Загрузчик файла\n",
        "\n",
        "          new_images, new_masks = load_tif(x_path, y_path, path)\n",
        "\n",
        "          images.append(new_images)\n",
        "          masks.append(new_masks)\n",
        "\n",
        "    return images, masks"
      ]
    },
    {
      "cell_type": "code",
      "execution_count": null,
      "id": "31d1bda8",
      "metadata": {
        "id": "31d1bda8"
      },
      "outputs": [],
      "source": [
        "def load_tif(x_path, y_path, path, step=4):\n",
        "    images = []\n",
        "    masks = []\n",
        "    image = Image.open(path + x_path)\n",
        "    mask = Image.open(path + y_path[0])\n",
        "    i = 0\n",
        "    j = 0\n",
        "    while True:\n",
        "        try:\n",
        "            mask.seek(i)\n",
        "            mask_array = np.array(mask)\n",
        "            image.seek(i)\n",
        "            image_array = np.array(image)\n",
        "            if len(np.unique(np.concatenate(mask_array, axis=0))) > 1: #Проверка, что маска не полностью черная\n",
        "                if j % step == 0:\n",
        "                    masks.append([mask_array, y_path[1], y_path[2]])\n",
        "                    images.append(image_array)\n",
        "                j += 1\n",
        "            else:\n",
        "                j = 0\n",
        "            i += 1\n",
        "        except EOFError:\n",
        "            break\n",
        "    return images, masks"
      ]
    },
    {
      "cell_type": "code",
      "execution_count": null,
      "id": "8b19e574",
      "metadata": {
        "id": "8b19e574"
      },
      "outputs": [],
      "source": [
        "images, masks = get_images(x_pathes, y_pathes, paths_with_tifs_2_3)"
      ]
    },
    {
      "cell_type": "code",
      "execution_count": null,
      "id": "1963ae99",
      "metadata": {
        "id": "1963ae99",
        "outputId": "5bca2774-17a4-405c-c9f7-f2fa6ec0a09b"
      },
      "outputs": [
        {
          "data": {
            "text/plain": [
              "[array([[[0, 0, 0],\n",
              "         [0, 0, 0],\n",
              "         [0, 0, 0],\n",
              "         ...,\n",
              "         [0, 0, 0],\n",
              "         [0, 0, 0],\n",
              "         [0, 0, 0]],\n",
              " \n",
              "        [[0, 0, 0],\n",
              "         [0, 0, 0],\n",
              "         [0, 0, 0],\n",
              "         ...,\n",
              "         [0, 0, 0],\n",
              "         [0, 0, 0],\n",
              "         [0, 0, 0]],\n",
              " \n",
              "        [[0, 0, 0],\n",
              "         [0, 0, 0],\n",
              "         [0, 0, 0],\n",
              "         ...,\n",
              "         [0, 0, 0],\n",
              "         [0, 0, 0],\n",
              "         [0, 0, 0]],\n",
              " \n",
              "        ...,\n",
              " \n",
              "        [[0, 0, 0],\n",
              "         [0, 0, 0],\n",
              "         [0, 0, 0],\n",
              "         ...,\n",
              "         [0, 0, 0],\n",
              "         [0, 0, 0],\n",
              "         [0, 0, 0]],\n",
              " \n",
              "        [[0, 0, 0],\n",
              "         [0, 0, 0],\n",
              "         [0, 0, 0],\n",
              "         ...,\n",
              "         [0, 0, 0],\n",
              "         [0, 0, 0],\n",
              "         [0, 0, 0]],\n",
              " \n",
              "        [[0, 0, 0],\n",
              "         [0, 0, 0],\n",
              "         [0, 0, 0],\n",
              "         ...,\n",
              "         [0, 0, 0],\n",
              "         [0, 0, 0],\n",
              "         [0, 0, 0]]], dtype=uint8),\n",
              " array([[[0, 0, 0],\n",
              "         [0, 0, 0],\n",
              "         [0, 0, 0],\n",
              "         ...,\n",
              "         [0, 0, 0],\n",
              "         [0, 0, 0],\n",
              "         [0, 0, 0]],\n",
              " \n",
              "        [[0, 0, 0],\n",
              "         [0, 0, 0],\n",
              "         [0, 0, 0],\n",
              "         ...,\n",
              "         [0, 0, 0],\n",
              "         [0, 0, 0],\n",
              "         [0, 0, 0]],\n",
              " \n",
              "        [[0, 0, 0],\n",
              "         [0, 0, 0],\n",
              "         [0, 0, 0],\n",
              "         ...,\n",
              "         [0, 0, 0],\n",
              "         [0, 0, 0],\n",
              "         [0, 0, 0]],\n",
              " \n",
              "        ...,\n",
              " \n",
              "        [[0, 0, 0],\n",
              "         [0, 0, 0],\n",
              "         [0, 0, 0],\n",
              "         ...,\n",
              "         [0, 0, 0],\n",
              "         [0, 0, 0],\n",
              "         [0, 0, 0]],\n",
              " \n",
              "        [[0, 0, 0],\n",
              "         [0, 0, 0],\n",
              "         [0, 0, 0],\n",
              "         ...,\n",
              "         [0, 0, 0],\n",
              "         [0, 0, 0],\n",
              "         [0, 0, 0]],\n",
              " \n",
              "        [[0, 0, 0],\n",
              "         [0, 0, 0],\n",
              "         [0, 0, 0],\n",
              "         ...,\n",
              "         [0, 0, 0],\n",
              "         [0, 0, 0],\n",
              "         [0, 0, 0]]], dtype=uint8),\n",
              " array([[[0, 0, 0],\n",
              "         [0, 0, 0],\n",
              "         [0, 0, 0],\n",
              "         ...,\n",
              "         [0, 0, 0],\n",
              "         [0, 0, 0],\n",
              "         [0, 0, 0]],\n",
              " \n",
              "        [[0, 0, 0],\n",
              "         [0, 0, 0],\n",
              "         [0, 0, 0],\n",
              "         ...,\n",
              "         [0, 0, 0],\n",
              "         [0, 0, 0],\n",
              "         [0, 0, 0]],\n",
              " \n",
              "        [[0, 0, 0],\n",
              "         [0, 0, 0],\n",
              "         [0, 0, 0],\n",
              "         ...,\n",
              "         [0, 0, 0],\n",
              "         [0, 0, 0],\n",
              "         [0, 0, 0]],\n",
              " \n",
              "        ...,\n",
              " \n",
              "        [[0, 0, 0],\n",
              "         [0, 0, 0],\n",
              "         [0, 0, 0],\n",
              "         ...,\n",
              "         [0, 0, 0],\n",
              "         [0, 0, 0],\n",
              "         [0, 0, 0]],\n",
              " \n",
              "        [[0, 0, 0],\n",
              "         [0, 0, 0],\n",
              "         [0, 0, 0],\n",
              "         ...,\n",
              "         [0, 0, 0],\n",
              "         [0, 0, 0],\n",
              "         [0, 0, 0]],\n",
              " \n",
              "        [[0, 0, 0],\n",
              "         [0, 0, 0],\n",
              "         [0, 0, 0],\n",
              "         ...,\n",
              "         [0, 0, 0],\n",
              "         [0, 0, 0],\n",
              "         [0, 0, 0]]], dtype=uint8),\n",
              " array([[[0, 0, 0],\n",
              "         [0, 0, 0],\n",
              "         [0, 0, 0],\n",
              "         ...,\n",
              "         [0, 0, 0],\n",
              "         [0, 0, 0],\n",
              "         [0, 0, 0]],\n",
              " \n",
              "        [[0, 0, 0],\n",
              "         [0, 0, 0],\n",
              "         [0, 0, 0],\n",
              "         ...,\n",
              "         [0, 0, 0],\n",
              "         [0, 0, 0],\n",
              "         [0, 0, 0]],\n",
              " \n",
              "        [[0, 0, 0],\n",
              "         [0, 0, 0],\n",
              "         [0, 0, 0],\n",
              "         ...,\n",
              "         [0, 0, 0],\n",
              "         [0, 0, 0],\n",
              "         [0, 0, 0]],\n",
              " \n",
              "        ...,\n",
              " \n",
              "        [[0, 0, 0],\n",
              "         [0, 0, 0],\n",
              "         [0, 0, 0],\n",
              "         ...,\n",
              "         [0, 0, 0],\n",
              "         [0, 0, 0],\n",
              "         [0, 0, 0]],\n",
              " \n",
              "        [[0, 0, 0],\n",
              "         [0, 0, 0],\n",
              "         [0, 0, 0],\n",
              "         ...,\n",
              "         [0, 0, 0],\n",
              "         [0, 0, 0],\n",
              "         [0, 0, 0]],\n",
              " \n",
              "        [[0, 0, 0],\n",
              "         [0, 0, 0],\n",
              "         [0, 0, 0],\n",
              "         ...,\n",
              "         [0, 0, 0],\n",
              "         [0, 0, 0],\n",
              "         [0, 0, 0]]], dtype=uint8)]"
            ]
          },
          "execution_count": 68,
          "metadata": {},
          "output_type": "execute_result"
        }
      ],
      "source": [
        "images[0]"
      ]
    },
    {
      "cell_type": "code",
      "execution_count": null,
      "id": "3898bf3c",
      "metadata": {
        "id": "3898bf3c",
        "outputId": "647518c7-c3ac-4acc-e4b6-897c0ad355c3"
      },
      "outputs": [
        {
          "data": {
            "text/plain": [
              "array([[0, 0, 0, ..., 0, 0, 0],\n",
              "       [0, 0, 0, ..., 0, 0, 0],\n",
              "       [0, 0, 0, ..., 0, 0, 0],\n",
              "       ...,\n",
              "       [0, 0, 0, ..., 0, 0, 0],\n",
              "       [0, 0, 0, ..., 0, 0, 0],\n",
              "       [0, 0, 0, ..., 0, 0, 0]], dtype=uint8)"
            ]
          },
          "execution_count": 70,
          "metadata": {},
          "output_type": "execute_result"
        }
      ],
      "source": [
        "masks[0][0][0]"
      ]
    },
    {
      "cell_type": "markdown",
      "id": "19982d35",
      "metadata": {
        "id": "19982d35"
      },
      "source": [
        "Теперь для каждого тифа создадим папку и туда сохраним все получившиеся фото"
      ]
    },
    {
      "cell_type": "code",
      "execution_count": null,
      "id": "db32ad32",
      "metadata": {
        "id": "db32ad32"
      },
      "outputs": [],
      "source": [
        "def preprocessing2(roi: object):\n",
        "    if np.sum(roi) == 0:\n",
        "        minr, minc, maxr, maxc = [0, 0, 256, 256]\n",
        "    else:\n",
        "        region = regionprops(roi)[0]\n",
        "        minr, minc, maxr, maxc = region.bbox\n",
        "    dim1_center, dim2_center = [(maxr + minr) // 2, (maxc + minc) // 2]\n",
        "    max_length = max(maxr - minr, maxc - minc)\n",
        "    max_lengthl = int((256 / 256) * 80)\n",
        "    preprocess1 = int((256 / 256) * 19)\n",
        "    pp22 = int((256 / 256) * 31)\n",
        "    if max_length > max_lengthl:\n",
        "        ex_pixel = preprocess1 + max_length // 2\n",
        "    else:\n",
        "        ex_pixel = pp22 + max_length // 2\n",
        "    dim1_cut_min = dim1_center - ex_pixel\n",
        "    dim1_cut_max = dim1_center + ex_pixel\n",
        "    dim2_cut_min = dim2_center - ex_pixel\n",
        "    dim2_cut_max = dim2_center + ex_pixel\n",
        "    if dim1_cut_min < 0:\n",
        "        dim1_cut_min = 0\n",
        "    if dim2_cut_min < 0:\n",
        "        dim2_cut_min = 0\n",
        "    if dim1_cut_max > 256:\n",
        "        dim1_cut_max = 256\n",
        "    if dim2_cut_max > 256:\n",
        "        dim2_cut_max = 256\n",
        "    return [dim1_cut_min, dim1_cut_max, dim2_cut_min, dim2_cut_max]"
      ]
    },
    {
      "cell_type": "code",
      "execution_count": null,
      "id": "5d8bbf23",
      "metadata": {
        "id": "5d8bbf23"
      },
      "outputs": [],
      "source": [
        "def save_pngs(folder_path, images, masks, bias):\n",
        "    tirads_list = []\n",
        "    names_list = []\n",
        "    j = 0\n",
        "    for i in range(len(images)):\n",
        "        path = os.path.join(folder_path, masks[i][0][2][:-9])\n",
        "        os.mkdir(path)\n",
        "#         print('Folder created...')\n",
        "        for k in range(len(images[i])):\n",
        "            cut_image = resize(images[i][k], (256, 256), order=3)\n",
        "            cut_image = (cut_image * 255).astype(np.uint8)\n",
        "            cut_mask = np.array(Image.fromarray(masks[i][k][0]).resize((256, 256)))\n",
        "            dim1_cut_min, dim1_cut_max, dim2_cut_min, dim2_cut_max = preprocessing2(cut_mask)\n",
        "            image_roi = cut_image[dim1_cut_min:dim1_cut_max, dim2_cut_min:dim2_cut_max]\n",
        "            mask_roi = cut_mask[dim1_cut_min:dim1_cut_max, dim2_cut_min:dim2_cut_max]\n",
        "\n",
        "            image_save_path = f'{path}/{j + bias}.PNG'\n",
        "            Image.fromarray(image_roi).convert(mode='L').save(image_save_path) # 1-канальное изображение\n",
        "            j+=1\n",
        ""
      ]
    },
    {
      "cell_type": "markdown",
      "id": "bf4986c8",
      "metadata": {
        "id": "bf4986c8"
      },
      "source": [
        "Для каждого тифа создали папку с его изображениями"
      ]
    },
    {
      "cell_type": "code",
      "execution_count": null,
      "id": "8c2a87ae",
      "metadata": {
        "id": "8c2a87ae",
        "outputId": "d994696a-eeca-4984-b746-4cfcf12504a6"
      },
      "outputs": [
        {
          "name": "stdout",
          "output_type": "stream",
          "text": [
            "Folder created...\n",
            "Folder created...\n",
            "Folder created...\n",
            "Folder created...\n",
            "Folder created...\n",
            "Folder created...\n",
            "Folder created...\n",
            "Folder created...\n",
            "Folder created...\n",
            "Folder created...\n",
            "Folder created...\n",
            "Folder created...\n",
            "Folder created...\n",
            "Folder created...\n",
            "Folder created...\n",
            "Folder created...\n",
            "Folder created...\n",
            "Folder created...\n",
            "Folder created...\n",
            "Folder created...\n",
            "Folder created...\n",
            "Folder created...\n",
            "Folder created...\n",
            "Folder created...\n",
            "Folder created...\n",
            "Folder created...\n",
            "Folder created...\n",
            "Folder created...\n",
            "Folder created...\n",
            "Folder created...\n",
            "Folder created...\n",
            "Folder created...\n",
            "Folder created...\n",
            "Folder created...\n",
            "Folder created...\n",
            "Folder created...\n",
            "Folder created...\n",
            "Folder created...\n",
            "Folder created...\n",
            "Folder created...\n",
            "Folder created...\n",
            "Folder created...\n",
            "Folder created...\n",
            "Folder created...\n",
            "Folder created...\n",
            "Folder created...\n",
            "Folder created...\n",
            "Folder created...\n",
            "Folder created...\n",
            "Folder created...\n",
            "Folder created...\n",
            "Folder created...\n",
            "Folder created...\n",
            "Folder created...\n",
            "Folder created...\n",
            "Folder created...\n",
            "Folder created...\n",
            "Folder created...\n",
            "Folder created...\n",
            "Folder created...\n",
            "Folder created...\n",
            "Folder created...\n"
          ]
        }
      ],
      "source": [
        "x_pathes2_3, y_pathes2_3 = get_pathes(paths_with_tifs_2_3)\n",
        "images2_3, masks2_3 = get_images(x_pathes2_3, y_pathes2_3, paths_with_tifs_2_3)\n",
        "save_pngs(paths_to_save_tifs_2_3, images2_3, masks2_3, bias=0)\n",
        "\n",
        "x_pathes4, y_pathes4 = get_pathes(paths_with_tifs_4)\n",
        "images4, masks4 = get_images(x_pathes4, y_pathes4, paths_with_tifs_4)\n",
        "save_pngs(paths_to_save_tifs_4, images4, masks4, bias=0)\n",
        "\n",
        "x_pathes5, y_pathes5 = get_pathes(paths_with_tifs_5)\n",
        "images5, masks5 = get_images(x_pathes5, y_pathes5, paths_with_tifs_5)\n",
        "save_pngs(paths_to_save_tifs_5, images5, masks5, bias=0)"
      ]
    },
    {
      "cell_type": "markdown",
      "id": "c73684d8",
      "metadata": {
        "id": "c73684d8"
      },
      "source": [
        "Теперь для каждой папки(тифа) посчитаем предикт"
      ]
    },
    {
      "cell_type": "code",
      "execution_count": null,
      "id": "349dfa5b",
      "metadata": {
        "id": "349dfa5b"
      },
      "outputs": [],
      "source": []
    },
    {
      "cell_type": "code",
      "execution_count": null,
      "id": "18fdaa0b",
      "metadata": {
        "id": "18fdaa0b"
      },
      "outputs": [],
      "source": []
    },
    {
      "cell_type": "code",
      "execution_count": null,
      "id": "82a91e6b",
      "metadata": {
        "id": "82a91e6b"
      },
      "outputs": [],
      "source": []
    },
    {
      "cell_type": "code",
      "execution_count": null,
      "id": "439a84d8",
      "metadata": {
        "id": "439a84d8"
      },
      "outputs": [],
      "source": []
    },
    {
      "cell_type": "code",
      "execution_count": null,
      "id": "e898a44a",
      "metadata": {
        "id": "e898a44a"
      },
      "outputs": [],
      "source": []
    },
    {
      "cell_type": "code",
      "execution_count": null,
      "id": "40d9a130",
      "metadata": {
        "id": "40d9a130"
      },
      "outputs": [],
      "source": []
    },
    {
      "cell_type": "code",
      "execution_count": null,
      "id": "f9f4a025",
      "metadata": {
        "id": "f9f4a025"
      },
      "outputs": [],
      "source": []
    },
    {
      "cell_type": "code",
      "execution_count": null,
      "id": "d4799577",
      "metadata": {
        "id": "d4799577"
      },
      "outputs": [],
      "source": []
    }
  ],
  "metadata": {
    "kernelspec": {
      "display_name": "Python 3 (ipykernel)",
      "language": "python",
      "name": "python3"
    },
    "language_info": {
      "codemirror_mode": {
        "name": "ipython",
        "version": 3
      },
      "file_extension": ".py",
      "mimetype": "text/x-python",
      "name": "python",
      "nbconvert_exporter": "python",
      "pygments_lexer": "ipython3",
      "version": "3.11.5"
    },
    "colab": {
      "provenance": [],
      "include_colab_link": true
    }
  },
  "nbformat": 4,
  "nbformat_minor": 5
}